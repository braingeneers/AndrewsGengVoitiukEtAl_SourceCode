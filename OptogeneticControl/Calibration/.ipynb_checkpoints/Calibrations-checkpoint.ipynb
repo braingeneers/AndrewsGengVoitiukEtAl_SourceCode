{
 "cells": [
  {
   "cell_type": "markdown",
   "id": "5e1f284c",
   "metadata": {},
   "source": [
    "# Calibrate Your Fiber Optic Setup Before an Experiment"
   ]
  },
  {
   "cell_type": "markdown",
   "id": "fd18b64a",
   "metadata": {},
   "source": [
    "## Set up Devices"
   ]
  },
  {
   "cell_type": "code",
   "execution_count": 1,
   "id": "285b11cc",
   "metadata": {},
   "outputs": [],
   "source": [
    "#import Python files one folder above\n",
    "import sys\n",
    "sys.path.append(\"..\")"
   ]
  },
  {
   "cell_type": "code",
   "execution_count": 2,
   "id": "c380a899",
   "metadata": {},
   "outputs": [],
   "source": [
    "import opto_hardware\n",
    "from opto_hardware import OptoHardware"
   ]
  },
  {
   "cell_type": "code",
   "execution_count": 3,
   "id": "2b738d9e",
   "metadata": {},
   "outputs": [
    {
     "name": "stdout",
     "output_type": "stream",
     "text": [
      "USB Devices:\n",
      "Available USB devices:\n",
      "('ASRL/dev/cu.wlan-debug::INSTR',\n",
      " 'ASRL/dev/cu.W1-R::INSTR',\n",
      " 'ASRL/dev/cu.Bluetooth-Incoming-Port::INSTR')\n"
     ]
    }
   ],
   "source": [
    "opto = OptoHardware()\n",
    "opto.verbose = False\n",
    "\n",
    "print(\"USB Devices:\")\n",
    "opto.list_USB_devices() #!lsusb"
   ]
  },
  {
   "cell_type": "code",
   "execution_count": 169,
   "id": "70a8ea46",
   "metadata": {},
   "outputs": [],
   "source": [
    "#print(opto)"
   ]
  },
  {
   "cell_type": "code",
   "execution_count": 170,
   "id": "eda2b7ed",
   "metadata": {},
   "outputs": [
    {
     "name": "stdout",
     "output_type": "stream",
     "text": [
      "Measurement type : POW\n",
      "Current value : 4.46055892e-05\n",
      "Thorlabs,PM100D,P0026693,2.6.0\n",
      "\n",
      "100\n"
     ]
    }
   ],
   "source": [
    "#Update with correct USB Device path:\n",
    "#If fails to connect, reboot power meter\n",
    "opto.init_ThorlabsPM100('USB0::4883::32888::P0026693::0::INSTR')"
   ]
  },
  {
   "cell_type": "code",
   "execution_count": 171,
   "id": "cbf91e38",
   "metadata": {},
   "outputs": [],
   "source": [
    "#Update with correct USB Device path:\n",
    "opto.init_arduino('/dev/cu.usbmodem112301') #if permission problems, run: sudo chmod 666 /dev/ttyACM0"
   ]
  },
  {
   "cell_type": "code",
   "execution_count": 181,
   "id": "164e657d",
   "metadata": {},
   "outputs": [
    {
     "name": "stdout",
     "output_type": "stream",
     "text": [
      "Use MaxWell for LED ON/OFF: False\n"
     ]
    }
   ],
   "source": [
    "opto.use_maxwell_off()\n",
    "print(\"Use MaxWell for LED ON/OFF:\", opto.use_maxwell)"
   ]
  },
  {
   "cell_type": "markdown",
   "id": "b1dfbd39",
   "metadata": {},
   "source": [
    "## Calibrate Power Output"
   ]
  },
  {
   "cell_type": "code",
   "execution_count": 4,
   "id": "68ac9031",
   "metadata": {},
   "outputs": [
    {
     "name": "stdout",
     "output_type": "stream",
     "text": [
      "Config name: \t\t\t\t UCSC Opto System B Nico 455nm 0p2A V1\n",
      "Fiber core diameter: \t\t\t 200 um\n",
      "Fiber length: \t\t\t\t 20 nm\n",
      "Fiber numerical apperture: \t\t 0.22 NA\n",
      "LED wavelength: \t\t\t 455 nm\n",
      "LED max output from Thorlabs docs: \t 5.4 mW\n",
      "Link to LED Docs: https://www.thorlabs.com/drawings/659a15bdcd5d054e-E71963C6-F3AA-557E-D55EAEA83353DB12/M455F3-SpecSheet.pdf\n"
     ]
    }
   ],
   "source": [
    "#Update the correct parameters!\n",
    "opto.config_name = 'UCSC Opto System B Nico 455nm 0p2A V1'\n",
    "opto.fiber_core_diam_um =  200 #um\n",
    "opto.fiber_len_mm =  20 #mm\n",
    "opto.fiber_numerical_aperture = 0.22 #NA\n",
    "opto.LED_wavelength = 455 #nm \n",
    "opto.LED_wavelength_color = '#00A9FF' #'#00C0FF'\n",
    "opto.led_docs_max_output_mW_200core = 5.4 #mW\n",
    "opto.link_to_led_docs =\"https://www.thorlabs.com/drawings/659a15bdcd5d054e-E71963C6-F3AA-557E-D55EAEA83353DB12/M455F3-SpecSheet.pdf\"\n",
    "\n",
    "\n",
    "print(\"Config name: \\t\\t\\t\\t\",  opto.config_name)\n",
    "print(\"Fiber core diameter: \\t\\t\\t\",  opto.fiber_core_diam_um, \"um\")\n",
    "print(\"Fiber length: \\t\\t\\t\\t\",  opto.fiber_len_mm, \"nm\")\n",
    "print(\"Fiber numerical apperture: \\t\\t\",  opto.fiber_numerical_aperture, \"NA\")\n",
    "print(\"LED wavelength: \\t\\t\\t\",  opto.LED_wavelength, \"nm\")\n",
    "print(\"LED max output from Thorlabs docs: \\t\",  opto.led_docs_max_output_mW_200core, \"mW\")\n",
    "print(\"Link to LED Docs:\", opto.link_to_led_docs)\n"
   ]
  },
  {
   "cell_type": "code",
   "execution_count": null,
   "id": "643664dc",
   "metadata": {},
   "outputs": [],
   "source": [
    "# opto.LED_wavelength_color = '#00A9FF' #470nm  #old 475nm: '#00C0FF'\n",
    "# opto.LED_wavelength_color = '#0061FF' #455nm\n",
    "# opto.LED_wavelength_color = '#FF6300' #625"
   ]
  },
  {
   "cell_type": "code",
   "execution_count": null,
   "id": "578e5aa0",
   "metadata": {},
   "outputs": [],
   "source": [
    "#opto.power_density(5.4)"
   ]
  },
  {
   "cell_type": "code",
   "execution_count": null,
   "id": "3e1bea3f",
   "metadata": {},
   "outputs": [],
   "source": [
    "#opto.get_LED_theoretical_max_power()"
   ]
  },
  {
   "cell_type": "code",
   "execution_count": null,
   "id": "4f7a7bbf",
   "metadata": {
    "scrolled": true
   },
   "outputs": [],
   "source": [
    "# opto.x = [0, 0.01, 0.025, 0.03, 0.05, 0.1, 0.2, 0.25, 0.3, 0.333333, 0.4, 0.5, 0.6, 0.6666666, 0.7, 0.75, 0.8, 0.85, 0.9, 0.95, 0.9998, 1]\n",
    "# print(opto.x)"
   ]
  },
  {
   "cell_type": "code",
   "execution_count": 174,
   "id": "ebda2d88",
   "metadata": {},
   "outputs": [
    {
     "name": "stdout",
     "output_type": "stream",
     "text": [
      "Intensiies for calibration: [0.0, 0.1, 0.2, 0.3, 0.4, 0.5, 0.6, 0.7, 0.8, 0.9, 1.0]\n"
     ]
    }
   ],
   "source": [
    "import numpy as np\n",
    "\n",
    "opto.x = np.linspace(0, 1, 11) #quick reading\n",
    "#opto.x = (np.linspace(0, 1, 101)) #higher resolution reading\n",
    "\n",
    "opto.x = list(np.around(opto.x, decimals=6)) #dac resolution never goes beyond 6 decimal places (1/2^16)\n",
    "\n",
    "print(\"Intensiies for calibration:\", opto.x)"
   ]
  },
  {
   "cell_type": "markdown",
   "id": "1304c2e9",
   "metadata": {},
   "source": [
    "### Get your setup ready and measure:"
   ]
  },
  {
   "cell_type": "code",
   "execution_count": 182,
   "id": "f2b32b66",
   "metadata": {},
   "outputs": [],
   "source": [
    "opto.set_arduino_intensity(0)"
   ]
  },
  {
   "cell_type": "code",
   "execution_count": 175,
   "id": "6825a10f",
   "metadata": {},
   "outputs": [
    {
     "name": "stdout",
     "output_type": "stream",
     "text": [
      "Intensity: 0.00000 \t DAC_bitvalue: 0 \t Expected Voltage: 0.00000\t Measured [Watts]: 2.90199441e-05\n",
      "Intensity: 0.10000 \t DAC_bitvalue: 410 \t Expected Voltage: 0.50000\t Measured [Watts]: 2.89190684e-05\n",
      "Intensity: 0.20000 \t DAC_bitvalue: 819 \t Expected Voltage: 1.00000\t Measured [Watts]: 2.89044292e-05\n",
      "Intensity: 0.30000 \t DAC_bitvalue: 1228 \t Expected Voltage: 1.50000\t Measured [Watts]: 2.85637125e-05\n",
      "Intensity: 0.40000 \t DAC_bitvalue: 1638 \t Expected Voltage: 2.00000\t Measured [Watts]: 2.85319511e-05\n",
      "Intensity: 0.50000 \t DAC_bitvalue: 2048 \t Expected Voltage: 2.50000\t Measured [Watts]: 3.71257411e-05\n",
      "Intensity: 0.60000 \t DAC_bitvalue: 2457 \t Expected Voltage: 3.00000\t Measured [Watts]: 4.4265129e-05\n",
      "Intensity: 0.70000 \t DAC_bitvalue: 2866 \t Expected Voltage: 3.50000\t Measured [Watts]: 4.42656819e-05\n",
      "Intensity: 0.80000 \t DAC_bitvalue: 3276 \t Expected Voltage: 4.00000\t Measured [Watts]: 4.4329634e-05\n",
      "Intensity: 0.90000 \t DAC_bitvalue: 3686 \t Expected Voltage: 4.50000\t Measured [Watts]: 4.46691593e-05\n",
      "Intensity: 1.00000 \t DAC_bitvalue: 4095 \t Expected Voltage: 5.00000\t Measured [Watts]: 4.45241276e-05\n",
      "Collected measurements [mW]:\n",
      "[0.029019944099999997, 0.0289190684, 0.0289044292, 0.0285637125, 0.0285319511, 0.0371257411, 0.04426512899999999, 0.0442656819, 0.044329634, 0.0446691593, 0.0445241276]\n"
     ]
    }
   ],
   "source": [
    "opto.measure_power_output() #results stored in opto.y"
   ]
  },
  {
   "cell_type": "code",
   "execution_count": 144,
   "id": "40ec6de1",
   "metadata": {},
   "outputs": [],
   "source": [
    "#print(opto.y)"
   ]
  },
  {
   "cell_type": "code",
   "execution_count": 104,
   "id": "719c16b3",
   "metadata": {},
   "outputs": [
    {
     "name": "stdout",
     "output_type": "stream",
     "text": [
      "y = 1.60802 * x + -0.16041 * x^2 + 0.00009\n"
     ]
    },
    {
     "data": {
      "image/png": "[encoded data removed]",
      "text/plain": [
       "<Figure size 432x288 with 1 Axes>"
      ]
     },
     "metadata": {
      "needs_background": "light"
     },
     "output_type": "display_data"
    }
   ],
   "source": [
    "opto.plot_power_curve()"
   ]
  },
  {
   "cell_type": "code",
   "execution_count": 102,
   "id": "be49aa04",
   "metadata": {},
   "outputs": [
    {
     "name": "stdout",
     "output_type": "stream",
     "text": [
      "y = 51.18493 * x + -5.10601 * x^2 + 0.00274\n"
     ]
    },
    {
     "data": {
      "image/png": "[encoded data removed]",
      "text/plain": [
       "<Figure size 432x288 with 1 Axes>"
      ]
     },
     "metadata": {
      "needs_background": "light"
     },
     "output_type": "display_data"
    }
   ],
   "source": [
    "opto.plot_power_density_curve()"
   ]
  },
  {
   "cell_type": "code",
   "execution_count": 103,
   "id": "9ef70349",
   "metadata": {},
   "outputs": [
    {
     "name": "stdout",
     "output_type": "stream",
     "text": [
      "OptoHardware parameters for UCSC Opto System B Nico 455nm 0p2A V1:\n",
      "{'DAC_range': 4095,\n",
      " 'LED_wavelength': 455,\n",
      " 'a': 1.6080222073804824,\n",
      " 'a_inv': 0,\n",
      " 'arduino_intensity': 0,\n",
      " 'arduino_path': '/dev/cu.usbmodem112301',\n",
      " 'arduino_reply': None,\n",
      " 'b': -0.16040993560480032,\n",
      " 'b_inv': 0,\n",
      " 'baud': 115200,\n",
      " 'c': 8.594852078824822e-05,\n",
      " 'c_inv': 0,\n",
      " 'config_name': 'UCSC Opto System B Nico 455nm 0p2A V1',\n",
      " 'fiber_core_diam_um': 200,\n",
      " 'fiber_len_mm': 20,\n",
      " 'fiber_numerical_aperture': 0.22,\n",
      " 'led_docs_max_output_mW_200core': 5.4,\n",
      " 'link': <pySerialTransfer.pySerialTransfer.SerialTransfer object at 0x1461676d0>,\n",
      " 'link_to_led_docs': 'https://www.thorlabs.com/drawings/659a15bdcd5d054e-E71963C6-F3AA-557E-D55EAEA83353DB12/M455F3-SpecSheet.pdf',\n",
      " 'path_to_Thorlabs': 'USB0::4883::32888::P0026693::0::INSTR',\n",
      " 'path_to_csv': None,\n",
      " 'power_meter': <ThorlabsPM100.ThorlabsPM100.ThorlabsPM100 object at 0x145e0a7f0>,\n",
      " 'ramp': False,\n",
      " 'ramp_time': 0,\n",
      " 'rm': <ResourceManager(<PyVisaLibrary('py')>)>,\n",
      " 'use_maxwell': False,\n",
      " 'verbose': False,\n",
      " 'x': [0.0, 0.1, 0.2, 0.3, 0.4, 0.5, 0.6, 0.7, 0.8, 0.9, 1.0],\n",
      " 'y': [0.017938024,\n",
      "       0.142460805,\n",
      "       0.30711753100000005,\n",
      "       0.465805817,\n",
      "       0.618903723,\n",
      "       0.766969752,\n",
      "       0.90976042,\n",
      "       1.0504262800000002,\n",
      "       1.18726632,\n",
      "       1.3214791,\n",
      "       1.4393616]}\n",
      " y = a * x + b * x^2 + c\n",
      " y = 1.60802 * x + -0.16041 * x^2 + 0.00009\n"
     ]
    }
   ],
   "source": [
    "print(opto)"
   ]
  },
  {
   "cell_type": "code",
   "execution_count": null,
   "id": "62d26e5e",
   "metadata": {},
   "outputs": [],
   "source": [
    "opto.save_parameter_csv()"
   ]
  },
  {
   "cell_type": "markdown",
   "id": "7ba36c5f",
   "metadata": {},
   "source": [
    "## Compare to old data"
   ]
  },
  {
   "cell_type": "code",
   "execution_count": 64,
   "id": "b4dbff97",
   "metadata": {},
   "outputs": [
    {
     "name": "stdout",
     "output_type": "stream",
     "text": [
      "20221026T183244-ucsc-opto-system-a-470nm-0p35A-v2.csv\r\n",
      "20221031T101406-ucsc-opto-system-b-nico-455nm-0p2a-v1.csv\r\n",
      "20221031T101718-ucsc-opto-system-b-455nm-1p0a-v1.csv\r\n",
      "20221031T102003-ucsb-opto-system-a-455nm-0p35a-v1.csv\r\n",
      "20221031T102158-ucsc-opto-system-a-v2.csv\r\n",
      "20221031T102426-fiber-coupled-led-455nm.csv\r\n",
      "Calibrations.ipynb\r\n",
      "\u001b[34mold\u001b[m\u001b[m\r\n"
     ]
    }
   ],
   "source": [
    "!ls"
   ]
  },
  {
   "cell_type": "code",
   "execution_count": 65,
   "id": "2332e38d",
   "metadata": {},
   "outputs": [],
   "source": [
    "#or pull up old results:\n",
    "opto.set_path_to_parameter_csv(\"20221026T183244-ucsc-opto-system-a-470nm-0p35A-v2.csv\")\n",
    "opto.load_parameter_csv()"
   ]
  },
  {
   "cell_type": "code",
   "execution_count": 66,
   "id": "41f48349",
   "metadata": {},
   "outputs": [
    {
     "name": "stdout",
     "output_type": "stream",
     "text": [
      "[2.42326372e-05, 2.33316957e-05, 0.00013368750700000002, 0.0126861032, 0.025983054, 0.0395845418, 0.0538753629, 0.0675320553, 0.07717367409999999, 0.0889825023, 0.102641847, 0.11576149699999999, 0.13047341799999998, 0.144597099, 0.157868591, 0.171856664, 0.18589526, 0.198967478, 0.213025938, 0.226738441, 0.239725836, 0.25337605599999996, 0.26705276099999997, 0.28021037000000004, 0.29390389699999997, 0.307843031, 0.32060887299999996, 0.333407137, 0.347163936, 0.359690486, 0.372384529, 0.385933701, 0.398346223, 0.410738256, 0.42364129300000003, 0.435968861, 0.448123406, 0.46168116400000003, 0.474306376, 0.486922683, 0.499864167, 0.512540515, 0.52455283, 0.537000655, 0.54942799, 0.561728375, 0.574159436, 0.586465467, 0.598382729, 0.611038646, 0.623276399, 0.63458283, 0.6466699410000001, 0.659107696, 0.670872105, 0.682721962, 0.695162686, 0.7065245299999999, 0.71816775, 0.7300016589999999, 0.741876429, 0.7534105680000001, 0.766259327, 0.777688925, 0.789368409, 0.801405811, 0.8132485089999999, 0.824429677, 0.836370396, 0.84794627, 0.8590042130000001, 0.87062997, 0.8822003150000001, 0.893538643, 0.9050835509999999, 0.9173426659999999, 0.9277345379999999, 0.939204998, 0.950808928, 0.9614527230000001, 0.972357637, 0.9841859569999999, 0.994947273, 1.00608671, 1.01739622, 1.02844392, 1.03905797, 1.0510685400000002, 1.06197444, 1.0729727800000002, 1.08402979, 1.0948939, 1.1058906099999999, 1.1165177, 1.12752547, 1.13806932, 1.14918756, 1.15981337, 1.17052405, 1.18107675, 1.18180993]\n"
     ]
    }
   ],
   "source": [
    "print(opto.y)"
   ]
  },
  {
   "cell_type": "code",
   "execution_count": 67,
   "id": "d67b2879",
   "metadata": {},
   "outputs": [
    {
     "name": "stdout",
     "output_type": "stream",
     "text": [
      "y = 1.37861 * x + -0.16027 * x^2 + -0.02736\n"
     ]
    },
    {
     "data": {
      "image/png": "[encoded data removed]",
      "text/plain": [
       "<Figure size 432x288 with 1 Axes>"
      ]
     },
     "metadata": {
      "needs_background": "light"
     },
     "output_type": "display_data"
    }
   ],
   "source": [
    "opto.plot_power_curve()"
   ]
  },
  {
   "cell_type": "code",
   "execution_count": 68,
   "id": "80ec57db",
   "metadata": {},
   "outputs": [
    {
     "name": "stdout",
     "output_type": "stream",
     "text": [
      "y = 43.88255 * x + -5.10161 * x^2 + -0.87082\n"
     ]
    },
    {
     "data": {
      "image/png": "[encoded data removed]",
      "text/plain": [
       "<Figure size 432x288 with 1 Axes>"
      ]
     },
     "metadata": {
      "needs_background": "light"
     },
     "output_type": "display_data"
    }
   ],
   "source": [
    "opto.plot_power_density_curve()"
   ]
  },
  {
   "cell_type": "code",
   "execution_count": 74,
   "id": "577e293e",
   "metadata": {},
   "outputs": [
    {
     "name": "stdout",
     "output_type": "stream",
     "text": [
      "OptoHardware parameters for UCSC Opto System A 470nm 0p35A V2:\n",
      "{'DAC_range': 4095,\n",
      " 'LED_wavelength': 470,\n",
      " 'LED_wavelength_color': '#00A9FF',\n",
      " 'a': 1.3786109375220073,\n",
      " 'a_inv': 0,\n",
      " 'arduino_intensity': 0,\n",
      " 'arduino_path': None,\n",
      " 'arduino_reply': None,\n",
      " 'b': -0.16027192863407144,\n",
      " 'b_inv': 0,\n",
      " 'baud': 115200,\n",
      " 'c': -0.027357572815423555,\n",
      " 'c_inv': 0,\n",
      " 'config_name': 'UCSC Opto System A 470nm 0p35A V2',\n",
      " 'fiber_core_diam_um': 200,\n",
      " 'fiber_len_mm': 20,\n",
      " 'fiber_numerical_aperture': 0.22,\n",
      " 'led_docs_max_output_mW_200core': 5.4,\n",
      " 'link': None,\n",
      " 'link_to_led_docs': 'https://www.thorlabs.com/drawings/659a15bdcd5d054e-E71963C6-F3AA-557E-D55EAEA83353DB12/M455F3-SpecSheet.pdf',\n",
      " 'path_to_Thorlabs': None,\n",
      " 'path_to_csv': '20221031T103441-ucsc-opto-system-a-v2.csv',\n",
      " 'power_meter': None,\n",
      " 'ramp': False,\n",
      " 'ramp_time': 0,\n",
      " 'rm': <ResourceManager(<PyVisaLibrary('py')>)>,\n",
      " 'use_maxwell': True,\n",
      " 'verbose': False,\n",
      " 'x': [0.0,\n",
      "       0.01,\n",
      "       0.02,\n",
      "       0.03,\n",
      "       0.04,\n",
      "       0.05,\n",
      "       0.06,\n",
      "       0.07,\n",
      "       0.08,\n",
      "       0.09,\n",
      "       0.1,\n",
      "       0.11,\n",
      "       0.12,\n",
      "       0.13,\n",
      "       0.14,\n",
      "       0.15,\n",
      "       0.16,\n",
      "       0.17,\n",
      "       0.18,\n",
      "       0.19,\n",
      "       0.2,\n",
      "       0.21,\n",
      "       0.22,\n",
      "       0.23,\n",
      "       0.24,\n",
      "       0.25,\n",
      "       0.26,\n",
      "       0.27,\n",
      "       0.28,\n",
      "       0.29,\n",
      "       0.3,\n",
      "       0.31,\n",
      "       0.32,\n",
      "       0.33,\n",
      "       0.34,\n",
      "       0.35,\n",
      "       0.36,\n",
      "       0.37,\n",
      "       0.38,\n",
      "       0.39,\n",
      "       0.4,\n",
      "       0.41,\n",
      "       0.42,\n",
      "       0.43,\n",
      "       0.44,\n",
      "       0.45,\n",
      "       0.46,\n",
      "       0.47,\n",
      "       0.48,\n",
      "       0.49,\n",
      "       0.5,\n",
      "       0.51,\n",
      "       0.52,\n",
      "       0.53,\n",
      "       0.54,\n",
      "       0.55,\n",
      "       0.56,\n",
      "       0.57,\n",
      "       0.58,\n",
      "       0.59,\n",
      "       0.6,\n",
      "       0.61,\n",
      "       0.62,\n",
      "       0.63,\n",
      "       0.64,\n",
      "       0.65,\n",
      "       0.66,\n",
      "       0.67,\n",
      "       0.68,\n",
      "       0.69,\n",
      "       0.7,\n",
      "       0.71,\n",
      "       0.72,\n",
      "       0.73,\n",
      "       0.74,\n",
      "       0.75,\n",
      "       0.76,\n",
      "       0.77,\n",
      "       0.78,\n",
      "       0.79,\n",
      "       0.8,\n",
      "       0.81,\n",
      "       0.82,\n",
      "       0.83,\n",
      "       0.84,\n",
      "       0.85,\n",
      "       0.86,\n",
      "       0.87,\n",
      "       0.88,\n",
      "       0.89,\n",
      "       0.9,\n",
      "       0.91,\n",
      "       0.92,\n",
      "       0.93,\n",
      "       0.94,\n",
      "       0.95,\n",
      "       0.96,\n",
      "       0.97,\n",
      "       0.98,\n",
      "       0.99,\n",
      "       1.0],\n",
      " 'y': [2.42326372e-05,\n",
      "       2.33316957e-05,\n",
      "       0.00013368750700000002,\n",
      "       0.0126861032,\n",
      "       0.025983054,\n",
      "       0.0395845418,\n",
      "       0.0538753629,\n",
      "       0.0675320553,\n",
      "       0.07717367409999999,\n",
      "       0.0889825023,\n",
      "       0.102641847,\n",
      "       0.11576149699999999,\n",
      "       0.13047341799999998,\n",
      "       0.144597099,\n",
      "       0.157868591,\n",
      "       0.171856664,\n",
      "       0.18589526,\n",
      "       0.198967478,\n",
      "       0.213025938,\n",
      "       0.226738441,\n",
      "       0.239725836,\n",
      "       0.25337605599999996,\n",
      "       0.26705276099999997,\n",
      "       0.28021037000000004,\n",
      "       0.29390389699999997,\n",
      "       0.307843031,\n",
      "       0.32060887299999996,\n",
      "       0.333407137,\n",
      "       0.347163936,\n",
      "       0.359690486,\n",
      "       0.372384529,\n",
      "       0.385933701,\n",
      "       0.398346223,\n",
      "       0.410738256,\n",
      "       0.42364129300000003,\n",
      "       0.435968861,\n",
      "       0.448123406,\n",
      "       0.46168116400000003,\n",
      "       0.474306376,\n",
      "       0.486922683,\n",
      "       0.499864167,\n",
      "       0.512540515,\n",
      "       0.52455283,\n",
      "       0.537000655,\n",
      "       0.54942799,\n",
      "       0.561728375,\n",
      "       0.574159436,\n",
      "       0.586465467,\n",
      "       0.598382729,\n",
      "       0.611038646,\n",
      "       0.623276399,\n",
      "       0.63458283,\n",
      "       0.6466699410000001,\n",
      "       0.659107696,\n",
      "       0.670872105,\n",
      "       0.682721962,\n",
      "       0.695162686,\n",
      "       0.7065245299999999,\n",
      "       0.71816775,\n",
      "       0.7300016589999999,\n",
      "       0.741876429,\n",
      "       0.7534105680000001,\n",
      "       0.766259327,\n",
      "       0.777688925,\n",
      "       0.789368409,\n",
      "       0.801405811,\n",
      "       0.8132485089999999,\n",
      "       0.824429677,\n",
      "       0.836370396,\n",
      "       0.84794627,\n",
      "       0.8590042130000001,\n",
      "       0.87062997,\n",
      "       0.8822003150000001,\n",
      "       0.893538643,\n",
      "       0.9050835509999999,\n",
      "       0.9173426659999999,\n",
      "       0.9277345379999999,\n",
      "       0.939204998,\n",
      "       0.950808928,\n",
      "       0.9614527230000001,\n",
      "       0.972357637,\n",
      "       0.9841859569999999,\n",
      "       0.994947273,\n",
      "       1.00608671,\n",
      "       1.01739622,\n",
      "       1.02844392,\n",
      "       1.03905797,\n",
      "       1.0510685400000002,\n",
      "       1.06197444,\n",
      "       1.0729727800000002,\n",
      "       1.08402979,\n",
      "       1.0948939,\n",
      "       1.1058906099999999,\n",
      "       1.1165177,\n",
      "       1.12752547,\n",
      "       1.13806932,\n",
      "       1.14918756,\n",
      "       1.15981337,\n",
      "       1.17052405,\n",
      "       1.18107675,\n",
      "       1.18180993]}\n",
      " y = a * x + b * x^2 + c\n",
      " y = 1.37861 * x + -0.16027 * x^2 + -0.02736\n"
     ]
    }
   ],
   "source": [
    "print(opto)"
   ]
  },
  {
   "cell_type": "code",
   "execution_count": 75,
   "id": "a407cd29",
   "metadata": {},
   "outputs": [],
   "source": [
    "# opto.config_name = 'UCSC Opto System A 470nm 0p35A V2'\n"
   ]
  },
  {
   "cell_type": "code",
   "execution_count": 76,
   "id": "1a756cfd",
   "metadata": {},
   "outputs": [],
   "source": [
    "opto.save_parameter_csv()"
   ]
  },
  {
   "cell_type": "markdown",
   "id": "c6ea2944",
   "metadata": {},
   "source": [
    "## Calculate and Convert Units of Light"
   ]
  },
  {
   "cell_type": "markdown",
   "id": "89068c35",
   "metadata": {},
   "source": [
    "### Stats for your current hardware:"
   ]
  },
  {
   "cell_type": "code",
   "execution_count": 165,
   "id": "066baa4c",
   "metadata": {
    "scrolled": false
   },
   "outputs": [
    {
     "name": "stdout",
     "output_type": "stream",
     "text": [
      "DAC Range: 4095\n",
      "Maximum Power Density setting: 37.82065652153811 mw/mm^2\n",
      "DAC Power Density step resolution: 0.009235813558373166 mw/mm^2\n"
     ]
    }
   ],
   "source": [
    "print(\"DAC Range:\", opto.get_DAC_bitvalue(1))\n",
    "print(\"Maximum Power Density setting:\", opto.arduino_setting_to_power_density(1), \"mw/mm^2\")\n",
    "print(\"DAC Power Density step resolution:\", opto.arduino_setting_to_power_density(1)/opto.DAC_range, \"mw/mm^2\")"
   ]
  },
  {
   "cell_type": "markdown",
   "id": "a4362ba2",
   "metadata": {},
   "source": [
    "### (1) Convert Arduino Intensity Setting (Fraction) -->  Power Density (mW/mm$^2$)"
   ]
  },
  {
   "cell_type": "code",
   "execution_count": 158,
   "id": "475c638b",
   "metadata": {},
   "outputs": [
    {
     "data": {
      "text/plain": [
       "37.82065652153811"
      ]
     },
     "execution_count": 158,
     "metadata": {},
     "output_type": "execute_result"
    }
   ],
   "source": [
    "opto.arduino_setting_to_power_density(1)"
   ]
  },
  {
   "cell_type": "code",
   "execution_count": 159,
   "id": "3591c915",
   "metadata": {},
   "outputs": [
    {
     "name": "stdout",
     "output_type": "stream",
     "text": [
      "intensity [0 to 1] \t density [mw/mm2]\n",
      "--------------------------------------------\n",
      "0.05 \t\t\t 0.9607064419862731\n",
      "0.1 \t\t\t 3.0252181165447287\n",
      "0.2 \t\t\t 7.1127366983448175\n",
      "0.3 \t\t\t 11.144915590389143\n",
      "0.4 \t\t\t 15.121754792677711\n",
      "0.5 \t\t\t 19.043254305210514\n",
      "0.6 \t\t\t 22.909414127987553\n",
      "0.7 \t\t\t 26.720234261008837\n",
      "0.8 \t\t\t 30.47571470427436\n",
      "0.9 \t\t\t 34.175855457784124\n"
     ]
    }
   ],
   "source": [
    "intensities = [0.05, 0.1, 0.2, 0.3, 0.4, 0.5, 0.6, 0.7, 0.8, 0.9]\n",
    "densities = [opto.arduino_setting_to_power_density(intensity) for intensity in intensities]\n",
    "\n",
    "print(\"intensity [0 to 1] \\t density [mw/mm2]\")\n",
    "print(\"--------------------------------------------\")\n",
    "\n",
    "for (intensity, density) in zip(intensities, densities):\n",
    "    print(intensity, \"\\t\\t\\t\", density)"
   ]
  },
  {
   "cell_type": "markdown",
   "id": "0609e2d0",
   "metadata": {},
   "source": [
    "### (2) Convert Power Density (mW/mm$^2$) -->  Arduino Intensity Setting (Fraction) "
   ]
  },
  {
   "cell_type": "code",
   "execution_count": 132,
   "id": "429afc73",
   "metadata": {},
   "outputs": [
    {
     "data": {
      "text/plain": [
       "0.05385805094373086"
      ]
     },
     "execution_count": 132,
     "metadata": {},
     "output_type": "execute_result"
    }
   ],
   "source": [
    "opto.power_density_to_arduino_setting(1)"
   ]
  },
  {
   "cell_type": "code",
   "execution_count": 162,
   "id": "2f4c07ac",
   "metadata": {},
   "outputs": [
    {
     "name": "stdout",
     "output_type": "stream",
     "text": [
      "density [mw/mm2] \t intensity [0 to 1]\n",
      "--------------------------------------------\n",
      "0.1 \t\t\t 0.03111129255499254\n",
      "0.5 \t\t\t 0.041799939236359246\n",
      "1 \t\t\t 0.05385805094373086\n",
      "2 \t\t\t 0.07733169062641537\n",
      "3 \t\t\t 0.10058771714701797\n",
      "5 \t\t\t 0.1531957361908494\n",
      "10 \t\t\t 0.2726243769053724\n",
      "12 \t\t\t 0.32214151444795186\n"
     ]
    }
   ],
   "source": [
    "densities = [0.1, 0.5, 1, 2, 3, 5, 10, 12]\n",
    "intensities = [opto.power_density_to_arduino_setting(density) for density in densities]\n",
    "\n",
    "print(\"density [mw/mm2] \\t intensity [0 to 1]\")\n",
    "print(\"--------------------------------------------\")\n",
    "for (density, intensity) in zip(densities, intensities):\n",
    "    print(density, \"\\t\\t\\t\", intensity)"
   ]
  }
 ],
 "metadata": {
  "hide_input": false,
  "kernelspec": {
   "display_name": "Python 3",
   "language": "python",
   "name": "python3"
  },
  "language_info": {
   "codemirror_mode": {
    "name": "ipython",
    "version": 3
   },
   "file_extension": ".py",
   "mimetype": "text/x-python",
   "name": "python",
   "nbconvert_exporter": "python",
   "pygments_lexer": "ipython3",
   "version": "3.9.13"
  },
  "toc": {
   "base_numbering": 1,
   "nav_menu": {},
   "number_sections": true,
   "sideBar": true,
   "skip_h1_title": false,
   "title_cell": "Table of Contents",
   "title_sidebar": "Contents",
   "toc_cell": false,
   "toc_position": {},
   "toc_section_display": true,
   "toc_window_display": false
  },
  "widgets": {
   "application/vnd.jupyter.widget-state+json": {
    "state": {},
    "version_major": 2,
    "version_minor": 0
   }
  }
 },
 "nbformat": 4,
 "nbformat_minor": 5
}
