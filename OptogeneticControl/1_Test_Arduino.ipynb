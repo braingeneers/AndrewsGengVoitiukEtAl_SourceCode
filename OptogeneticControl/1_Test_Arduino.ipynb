{
 "cells": [
  {
   "cell_type": "markdown",
   "metadata": {},
   "source": [
    "## Import Libraries"
   ]
  },
  {
   "cell_type": "code",
   "execution_count": 1,
   "metadata": {},
   "outputs": [],
   "source": [
    "import opto_hardware\n",
    "from opto_hardware import OptoHardware"
   ]
  },
  {
   "cell_type": "markdown",
   "metadata": {},
   "source": [
    "### Checklist before opto stimulation:\n",
    "\n",
    "1) Set tiny black switch on LEDD1B to be on \"MOD\" (rightmost position)\n",
    "\n",
    "2) Make sure power knob on LEDD1B is in on position (Past the click)\n",
    "\n",
    "3) Connect MaxWell headstage via HDMI cable to HDMI breakout board\n",
    "\n",
    "4) Connect Fiber optic cable to LED and MEA well"
   ]
  },
  {
   "cell_type": "markdown",
   "metadata": {},
   "source": [
    "## Test Arduino"
   ]
  },
  {
   "cell_type": "markdown",
   "metadata": {},
   "source": [
    "Initialize the low-level hardware class:\n",
    "\n",
    "(Note: using the higher level opto_enviroment class handles this for you later)"
   ]
  },
  {
   "cell_type": "code",
   "execution_count": 2,
   "metadata": {},
   "outputs": [],
   "source": [
    "opto = OptoHardware()\n",
    "opto.verbose = False"
   ]
  },
  {
   "cell_type": "code",
   "execution_count": 3,
   "metadata": {},
   "outputs": [
    {
     "name": "stdout",
     "output_type": "stream",
     "text": [
      "USB Devices:\n",
      "Available USB devices:\n",
      "('ASRL/dev/cu.wlan-debug::INSTR',\n",
      " 'ASRL/dev/cu.W1-R::INSTR',\n",
      " 'ASRL/dev/cu.Bluetooth-Incoming-Port::INSTR',\n",
      " 'ASRL/dev/cu.usbmodem11101::INSTR')\n"
     ]
    }
   ],
   "source": [
    "print(\"USB Devices:\")\n",
    "opto.list_USB_devices() #!lsusb"
   ]
  },
  {
   "cell_type": "markdown",
   "metadata": {},
   "source": [
    "Indicate path for Arduino:\n",
    "\n",
    "Usually \"/dev/ttyACM_\""
   ]
  },
  {
   "cell_type": "code",
   "execution_count": 5,
   "metadata": {},
   "outputs": [],
   "source": [
    "#arduino_path = \"/dev/ttyACM0\"  #On MaxWell Computer\n",
    "arduino_path = \"/dev/cu.usbmodem11101\" #On Macbook\n",
    "\n",
    "opto.init_arduino(arduino_path)\n",
    "\n",
    "#If permission error, run:\n",
    "#sudo chmod 666 /dev/ttyACM0"
   ]
  },
  {
   "cell_type": "markdown",
   "metadata": {},
   "source": [
    "#### Load up the calibration file"
   ]
  },
  {
   "cell_type": "markdown",
   "metadata": {},
   "source": [
    "List all calibration files:"
   ]
  },
  {
   "cell_type": "code",
   "execution_count": 2,
   "metadata": {},
   "outputs": [
    {
     "name": "stdout",
     "output_type": "stream",
     "text": [
      "20221031T101406-ucsc-opto-system-b-nico-455nm-0p2a-v1.csv\n",
      "20221031T101718-ucsc-opto-system-b-455nm-1p0a-v1.csv\n",
      "20221031T102003-ucsb-opto-system-a-455nm-0p35a-v1.csv\n",
      "20221031T103819-ucsc-opto-system-a-470nm-0p35a-v2.csv\n",
      "20221108T144141-ucsc-opto-system-c-625nm-0p2a-v1.csv\n",
      "20230203T151304-ucsf-opto-system-b_real-470nm-1a-v1.csv\n",
      "20230203T151930-ucsf-opto-system-a_real-625nm-1a-v1.csv\n",
      "20230203T152939-ucsf-opto-system-a_real-625nm-1a-v1.csv\n",
      "20230203T153451-ucsf-opto-system-b_real-470nm-1a-v1.csv\n",
      "20230308T140514-ucsf-opto-system-b_real-530nm-1a-v1.csv\n",
      "20230308T141658-ucsf-opto-system-b_real-530nm-1a-v1.csv\n",
      "Calibrations.ipynb\n"
     ]
    }
   ],
   "source": [
    "!ls Calibration"
   ]
  },
  {
   "cell_type": "markdown",
   "metadata": {},
   "source": [
    "Pull up calibration results:"
   ]
  },
  {
   "cell_type": "code",
   "execution_count": 6,
   "metadata": {},
   "outputs": [],
   "source": [
    "opto.set_path_to_parameter_csv(\"calibration/20221031T102003-ucsb-opto-system-a-455nm-0p35a-v1.csv\") #UCSB system\n",
    "opto.load_parameter_csv()"
   ]
  },
  {
   "cell_type": "markdown",
   "metadata": {},
   "source": [
    "#### Test Arduino output without depenceny on MaxWell GPIO signals"
   ]
  },
  {
   "cell_type": "code",
   "execution_count": 7,
   "metadata": {},
   "outputs": [
    {
     "name": "stdout",
     "output_type": "stream",
     "text": [
      "Use MaxWell for LED ON/OFF: False\n"
     ]
    }
   ],
   "source": [
    "opto.use_maxwell_off()\n",
    "print(\"Use MaxWell for LED ON/OFF:\", opto.use_maxwell)"
   ]
  },
  {
   "cell_type": "code",
   "execution_count": 37,
   "metadata": {},
   "outputs": [],
   "source": [
    "opto.set_arduino_intensity(0.5)"
   ]
  },
  {
   "cell_type": "markdown",
   "metadata": {},
   "source": [
    "#### Test Arduino AND MaxWell GPIO signals"
   ]
  },
  {
   "cell_type": "markdown",
   "metadata": {},
   "source": [
    "Import MaxWell libraries:"
   ]
  },
  {
   "cell_type": "code",
   "execution_count": 41,
   "metadata": {},
   "outputs": [],
   "source": [
    "import maxlab\n",
    "import maxlab.system\n",
    "import maxlab.chip"
   ]
  },
  {
   "cell_type": "code",
   "execution_count": 5,
   "id": "03b73363",
   "metadata": {},
   "outputs": [],
   "source": [
    "# Use previously initialized class, or uncomment to initialize class here:\n",
    "# opto = OptoHardware()\n",
    "# opto.verbose = False\n",
    "# opto.init_arduino(arduino_path)\n",
    "# opto.set_path_to_parameter_csv(\"calibration/20221031T102003-ucsb-opto-system-a-455nm-0p35a-v1.csv\") #UCSB system\n",
    "# opto.load_parameter_csv()"
   ]
  },
  {
   "cell_type": "markdown",
   "metadata": {},
   "source": [
    "Debug: check connection with MaxWell by changing recording unit LED color:"
   ]
  },
  {
   "cell_type": "code",
   "execution_count": 28,
   "metadata": {},
   "outputs": [],
   "source": [
    "maxlab.send( maxlab.system.StatusLED(color=6)) #LED Turns Red"
   ]
  },
  {
   "cell_type": "markdown",
   "metadata": {},
   "source": [
    "Set all 8 GPIO pins to outputs:\n"
   ]
  },
  {
   "cell_type": "code",
   "execution_count": null,
   "metadata": {},
   "outputs": [],
   "source": [
    "maxlab.send( maxlab.system.GPIODirection(0b11111111))"
   ]
  },
  {
   "cell_type": "markdown",
   "metadata": {},
   "source": [
    "#### Run the test:"
   ]
  },
  {
   "cell_type": "code",
   "execution_count": 40,
   "metadata": {},
   "outputs": [
    {
     "name": "stdout",
     "output_type": "stream",
     "text": [
      "Use MaxWell for LED ON/OFF: True\n"
     ]
    }
   ],
   "source": [
    "opto.use_maxwell_on()\n",
    "print(\"Use MaxWell for LED ON/OFF:\", opto.use_maxwell)"
   ]
  },
  {
   "cell_type": "markdown",
   "metadata": {},
   "source": [
    "Set all GPIO pins High:  (Light should turn on)"
   ]
  },
  {
   "cell_type": "code",
   "execution_count": null,
   "metadata": {},
   "outputs": [],
   "source": [
    "maxlab.send( maxlab.system.GPIOOutput(0b11111111))"
   ]
  },
  {
   "cell_type": "markdown",
   "metadata": {},
   "source": [
    "Set all GPIO pins Low: (Light should turn off)"
   ]
  },
  {
   "cell_type": "code",
   "execution_count": null,
   "metadata": {},
   "outputs": [],
   "source": [
    "maxlab.send( maxlab.system.GPIOOutput(0b00000000))"
   ]
  }
 ],
 "metadata": {
  "kernelspec": {
   "display_name": "Python 3.9.15 64-bit",
   "language": "python",
   "name": "python3"
  },
  "language_info": {
   "codemirror_mode": {
    "name": "ipython",
    "version": 3
   },
   "file_extension": ".py",
   "mimetype": "text/x-python",
   "name": "python",
   "nbconvert_exporter": "python",
   "pygments_lexer": "ipython3",
   "version": "3.9.16"
  },
  "vscode": {
   "interpreter": {
    "hash": "397704579725e15f5c7cb49fe5f0341eb7531c82d19f2c29d197e8b64ab5776b"
   }
  }
 },
 "nbformat": 4,
 "nbformat_minor": 5
}
