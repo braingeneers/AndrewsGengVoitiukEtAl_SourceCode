{
 "cells": [
  {
   "cell_type": "code",
   "execution_count": null,
   "metadata": {},
   "outputs": [],
   "source": [
    "!pip uninstall -y numba\n",
    "!pip install numba==0.52"
   ]
  },
  {
   "cell_type": "code",
   "execution_count": null,
   "metadata": {},
   "outputs": [],
   "source": [
    "!pip uninstall -y umap-learn\n",
    "# !pip install numpy==1.19.5\n",
    "# !pip install scipy==1.4.1\n",
    "# !pip install numba==0.51.2"
   ]
  },
  {
   "cell_type": "code",
   "execution_count": null,
   "metadata": {},
   "outputs": [],
   "source": [
    "import numba\n",
    "numba.__version__"
   ]
  },
  {
   "cell_type": "code",
   "execution_count": null,
   "metadata": {},
   "outputs": [],
   "source": [
    "!pip install networkx==2.4\n",
    "import networkx as nx\n",
    "\n",
    "!pip install scikit-learn==0.22.2.post1\n",
    "from sklearn.model_selection import train_test_split, GridSearchCV\n",
    "from sklearn.metrics import confusion_matrix\n",
    "\n",
    "!pip install xgboost==1.0.2\n",
    "import xgboost as xgb\n",
    "\n",
    "!pip install umap-learn==0.5.1\n",
    "from umap import umap_ as umap\n",
    "\n",
    "!pip install cylouvain==0.2.2\n",
    "import cylouvain\n",
    "\n",
    "!pip install shap==0.35\n",
    "import shap\n",
    "\n",
    "!pip install python-igraph==0.8.2\n",
    "import igraph as ig"
   ]
  }
 ],
 "metadata": {
  "language_info": {
   "name": "python"
  }
 },
 "nbformat": 4,
 "nbformat_minor": 2
}
