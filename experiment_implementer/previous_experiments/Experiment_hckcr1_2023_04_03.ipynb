{
 "cells": [
  {
   "cell_type": "markdown",
   "id": "ac013b5c",
   "metadata": {},
   "source": [
    ". \n",
    "\n",
    "<font size=7>Opto Streamer Code"
   ]
  },
  {
   "cell_type": "markdown",
   "id": "99742228",
   "metadata": {},
   "source": [
    "In this notebook we create the first dry run of a closed loop maxwell/opto system."
   ]
  },
  {
   "cell_type": "markdown",
   "id": "d192e938",
   "metadata": {},
   "source": [
    "set up notebook"
   ]
  },
  {
   "cell_type": "code",
   "execution_count": 3,
   "id": "ce7725a7",
   "metadata": {},
   "outputs": [],
   "source": [
    "import MaxwellGI as mgi"
   ]
  },
  {
   "cell_type": "code",
   "execution_count": 4,
   "id": "b7ae07ed",
   "metadata": {},
   "outputs": [],
   "source": [
    "import time"
   ]
  },
  {
   "cell_type": "markdown",
   "id": "7f96406b",
   "metadata": {},
   "source": [
    "<font color=\"red\">\n",
    "    \n",
    "**To Do**\n",
    "* Build function checking USB devices\n",
    "* Calibration (get distribution of firing rates)\n",
    "* turn into a function where person set window time and results is an array of binned spikes.\n",
    "* ignore first spike count\n",
    "* look into glitch of high spike count near onset of initializtion for spike counter\n",
    "* Set up system for recording multiple files and specifying which one's have action in them\n",
    "* Kate ask to turn of print messages\n",
    "* Create gui for john andrews"
   ]
  },
  {
   "cell_type": "markdown",
   "id": "e93ac238",
   "metadata": {
    "heading_collapsed": true
   },
   "source": [
    "# <font color=red>Turn this into a calibration function"
   ]
  },
  {
   "cell_type": "markdown",
   "id": "aa57ec83",
   "metadata": {
    "hidden": true
   },
   "source": [
    "<font color=\"red\">\n",
    "\n",
    "* set spike counter window\n",
    "* set how long it should run for"
   ]
  },
  {
   "cell_type": "code",
   "execution_count": null,
   "id": "d983b295",
   "metadata": {
    "hidden": true,
    "scrolled": true
   },
   "outputs": [],
   "source": [
    "### Set up Maxwell and Opto\n",
    "maxwell = mgi.MaxwellCtl( config=\"/home/mxwbio/work/seizure_closed_loop/files/maxwell/configs/2023_03_31_opto_test.cfg\")              # Turn Maxwell On\n",
    "stream  = mgi.Streamer( maxwell, filtered=False )                                                                       # Start Livestream\n",
    "#opto_ctl = mgi.OptoCtl( log_file=\"./files/opto/logs/opto_test\", \n",
    "#                   calibration_file=\"./files/opto/calibrations/20230203T152939-ucsf-opto-system-a_real-625nm-1a-v1.csv\", arduino_path=\"/dev/ttyACM11\")       # Set up Opto\n",
    "#maxwell.recordingStart( data_file=\"/home/mxwbio/work/seizure_closed_loop/files/maxwell/recordings/2023_03_31_chip16753_optotest.h5\")   # Start recording data             \n",
    "\n",
    "\n",
    "\n",
    "\n",
    "# Define Closed Loop Experiment\n",
    "print(\"Starting closed loop\")\n",
    "last_opto = 0\n",
    "experiment_end = time.time() + 50                                    # End the experiment in 20 seconds\n",
    "first_time = True\n",
    "spike_counts = []\n",
    "while time.time() < experiment_end:                                  # while the experiment hasn't run for 20 seconds\n",
    "    count_time = time.time() + .5                                     # Count spikes over 1 second window\n",
    "    spike_count = 0                                                  # continually add new spikes to spike_count\n",
    "    while time.time() < count_time:                                  # while still in 1 second window\n",
    "        frameID, voltages, spikes = stream.getData()                 # get spikes data\n",
    "        for spike in spikes:                                         # if there's a spike add it to the spike_count\n",
    "            spike_count += 1\n",
    "    print(\"Spike Count: \", spike_count )    \n",
    "    if not first_time:\n",
    "        spike_counts.append(spike_count)\n",
    "    first_time = False\n",
    "\n",
    "    \n",
    "print(\"experiment finished\")    \n",
    "\n",
    "\n",
    "\n",
    "# Shut Down Experiment\n",
    "print(\"shutting down devices\")\n",
    "del stream                # Stop Stream\n",
    "#opto_ctl.close()          # Stop Opto\n",
    "#maxwell.recordingStop()  # stop recording\n",
    "print(\"done\")"
   ]
  },
  {
   "cell_type": "code",
   "execution_count": null,
   "id": "0b9fafa9",
   "metadata": {
    "hidden": true
   },
   "outputs": [],
   "source": [
    "import matplotlib.pyplot as plt\n",
    "\n",
    "\n",
    "plt.hist(spike_counts, bins='auto')  # arguments are passed to np.histogram\n",
    "plt.show()"
   ]
  },
  {
   "cell_type": "markdown",
   "id": "c4189edd",
   "metadata": {
    "hidden": true
   },
   "source": [
    "<font color=\"red\"> Provide some summary statistics output as well. Save results to some location.\n",
    "    \n"
   ]
  },
  {
   "cell_type": "markdown",
   "id": "76f768b1",
   "metadata": {
    "heading_collapsed": true
   },
   "source": [
    "# <font color=\"red\">Run Experiment"
   ]
  },
  {
   "cell_type": "markdown",
   "id": "32535d34",
   "metadata": {
    "hidden": true
   },
   "source": [
    "<font color=\"red\">\n",
    "\n",
    "* set spike counter window\n",
    "* set how long it should run for"
   ]
  },
  {
   "cell_type": "markdown",
   "id": "06c9bd40",
   "metadata": {
    "hidden": true
   },
   "source": [
    "This will turn into it's own python file"
   ]
  },
  {
   "cell_type": "code",
   "execution_count": null,
   "id": "8457144f",
   "metadata": {
    "hidden": true
   },
   "outputs": [],
   "source": [
    "### Set up Maxwell and Opto\n",
    "maxwell = mgi.MaxwellCtl( config=\"/home/mxwbio/work/seizure_closed_loop/files/maxwell/configs/2023_04_02_hc328.cfg\")              # Turn Maxwell On\n",
    "stream  = mgi.Streamer( maxwell, filtered=False )                                                                       # Start Livestream\n",
    "opto_ctl = mgi.OptoCtl( log_file=\"./files/opto/logs/sury_test\", \n",
    "                   calibration_file=\"./files/opto/calibrations/20230203T152939-ucsf-opto-system-a_real-625nm-1a-v1.csv\", arduino_path=\"/dev/ttyACM11\")       # Set up Opto\n",
    "maxwell.recordingStart( data_file=\"/home/mxwbio/work/seizure_closed_loop/files/maxwell/recordings/2023_03_31_chip16753_SuryTest.h5\")   # Start recording data             \n",
    "\n",
    "\n",
    "\n",
    "\n",
    "# Define Closed Loop Experiment\n",
    "print(\"Starting closed loop\")\n",
    "last_opto = 0\n",
    "experiment_end = time.time() + 120                                    # End the experiment in 20 seconds\n",
    "first_time = True\n",
    "spike_counts = []\n",
    "while time.time() < experiment_end:                                  # while the experiment hasn't run for 20 seconds\n",
    "    count_time = time.time() + .5                                     # Count spikes over 1 second window\n",
    "    spike_count = 0                                                  # continually add new spikes to spike_count\n",
    "    while time.time() < count_time:                                  # while still in 1 second window\n",
    "        frameID, voltages, spikes = stream.getData()                 # get spikes data\n",
    "        for spike in spikes:                                         # if there's a spike add it to the spike_count\n",
    "            spike_count += 1\n",
    "    print(\"Spike Count: \", spike_count )    \n",
    "    if not first_time:\n",
    "        spike_counts.append(spike_count)\n",
    "    \n",
    "\n",
    "    if spike_count > 19 and time.time()>last_opto+15 and not first_time:                # If tehre are more than 10 spikes in a second\n",
    "        print(\"Starting Opto Pulses\")                                # Do some opto pulses\n",
    "        opto_ctl.pulses(  on_duration=25, off_duration=25, num_pulses=100, intensity=.9 )\n",
    "        # on long pulse: \n",
    "        #opto_ctl.pulses(  on_duration=3000, off_duration=200, num_pulses=2, intensity=.2 )\n",
    "        \n",
    "        print(\"finished pulses\")\n",
    "        #print(\"emptying artifact spikes\")\n",
    "        last_opto = time.time()\n",
    "        #empty_time = time.time()+10                                  # wait 10 second to empty out previous data from stream\n",
    "        #while time.time() < empty_time:\n",
    "        #    stream.getData()                                         # Empty out stream data, because pulses created many fake spikes\n",
    "        #print(\"finished emptying\")    \n",
    "    first_time = False\n",
    "    \n",
    "print(\"experiment finished\")    \n",
    "\n",
    "\n",
    "\n",
    "# Shut Down Experiment\n",
    "print(\"shutting down devices\")\n",
    "del stream                # Stop Stream\n",
    "opto_ctl.close()          # Stop Opto\n",
    "maxwell.recordingStop()  # stop recording\n",
    "print(\"done\")"
   ]
  },
  {
   "cell_type": "markdown",
   "id": "7ea3d46a",
   "metadata": {
    "heading_collapsed": true
   },
   "source": [
    "# <font color=\"green\"> Experiment: Opto Light and Recording"
   ]
  },
  {
   "cell_type": "code",
   "execution_count": 10,
   "id": "0f2b91d9",
   "metadata": {
    "hidden": true
   },
   "outputs": [
    {
     "name": "stdout",
     "output_type": "stream",
     "text": [
      "MaxOne initialized\n",
      "Available USB devices:\n",
      "('ASRL/dev/ttyACM11::INSTR',)\n",
      "recording_filename 20230402T142907-2023_04_02_hc328_5\n",
      "stim_log_file: ./files/opto/logs/20230402T142907-2023_04_02_hc328_5_opto_stim_log.csv\n",
      "CSV file is 0\n",
      "Recording Started\n",
      "Starting experiments\n",
      "Light On\n",
      "Stim pulse \t use_maxwell: True \t arduino_intensity: 0.9 \t delay/on/off (frames): 0 / 200000 / 4000\n",
      "Light Off\n",
      "shutting down devices\n",
      "Recording finished\n",
      "done\n"
     ]
    }
   ],
   "source": [
    "maxwell = mgi.MaxwellCtl( config=\"/home/mxwbio/work/seizure_closed_loop/files/maxwell/configs/2023_04_02_hc328.cfg\")              # Turn Maxwell On\n",
    "opto_ctl = mgi.OptoCtl( log_file=\"./files/opto/logs/2023_04_02_hc328_5\", \n",
    "                   calibration_file=\"./files/opto/calibrations/20230308T140514-ucsf-opto-system-b_real-530nm-1a-v1.csv\", arduino_path=\"/dev/ttyACM11\")       # Set up Opto\n",
    "maxwell.recordingStart( data_file=\"/home/mxwbio/work/seizure_closed_loop/files/maxwell/recordings/2023_04_02_hc328_5.h5\")   # Start recording data             \n",
    "\n",
    "print(\"Starting experiments\")\n",
    "time.sleep(10)\n",
    "print(\"Light On\")\n",
    "opto_ctl.pulses(  on_duration=10000, off_duration=200, num_pulses=1, intensity=.9)\n",
    "print(\"Light Off\")\n",
    "time.sleep(60)\n",
    "\n",
    "# Shut Down Experiment\n",
    "print(\"shutting down devices\")\n",
    "opto_ctl.close()          # Stop Opto\n",
    "maxwell.recordingStop()  # stop recording\n",
    "print(\"done\")"
   ]
  },
  {
   "cell_type": "markdown",
   "id": "42ff3d85",
   "metadata": {
    "hidden": true
   },
   "source": [
    "**Experiments run**\n",
    "* 2023_04_02_hc328_0: single pules 5s length, 3s into experiment\n",
    "* 2023_04_02_hc328_1: single pulse 10s length, 10s into experiment\n",
    "* 2023_04_02_hc328_2: same as 1\n",
    "* 2023_04_02_hc328_3: same as 1\n",
    "* 2023_04_02_hc328_4: same as 1\n",
    "* 2023_04_02_hc328_5: same as 1, but longer recording after light stim"
   ]
  },
  {
   "cell_type": "markdown",
   "id": "e97df7cf",
   "metadata": {},
   "source": [
    "# <font color=\"green\"> Experiment: Get firing rate"
   ]
  },
  {
   "cell_type": "code",
   "execution_count": 20,
   "id": "c2e0497e",
   "metadata": {
    "scrolled": false
   },
   "outputs": [
    {
     "name": "stdout",
     "output_type": "stream",
     "text": [
      "MaxOne initialized\n",
      "maxwell streamer ready\n",
      "Starting closed loop\n",
      "Spike Count:  644\n",
      "Spike Count:  37\n",
      "Spike Count:  32\n",
      "Spike Count:  61\n",
      "Spike Count:  27\n",
      "Spike Count:  49\n",
      "Spike Count:  40\n",
      "Spike Count:  52\n",
      "Spike Count:  46\n",
      "Spike Count:  30\n",
      "Spike Count:  50\n",
      "Spike Count:  39\n",
      "experiment finished\n",
      "shutting down devices\n",
      "done\n"
     ]
    }
   ],
   "source": [
    "### Set up Maxwell and Opto\n",
    "maxwell = mgi.MaxwellCtl( config=\"/home/mxwbio/work/seizure_closed_loop/files/maxwell/configs/2023_04_03_hc328.cfg\")              # Turn Maxwell On\n",
    "stream  = mgi.Streamer( maxwell, filtered=False )                                                                       # Start Livestream\n",
    "#opto_ctl = mgi.OptoCtl( log_file=\"./files/opto/logs/opto_test\", \n",
    "#                   calibration_file=\"./files/opto/calibrations/20230203T152939-ucsf-opto-system-a_real-625nm-1a-v1.csv\", arduino_path=\"/dev/ttyACM11\")       # Set up Opto\n",
    "#maxwell.recordingStart( data_file=\"/home/mxwbio/work/seizure_closed_loop/files/maxwell/recordings/2023_03_31_chip16753_optotest.h5\")   # Start recording data             \n",
    "\n",
    "\n",
    "\n",
    "\n",
    "# Define Closed Loop Experiment\n",
    "print(\"Starting closed loop\")\n",
    "last_opto = 0\n",
    "experiment_end = time.time() + 60                                    # End the experiment in 20 seconds\n",
    "first_time = True\n",
    "spike_counts = []\n",
    "while time.time() < experiment_end:                                  # while the experiment hasn't run for 20 seconds\n",
    "    count_time = time.time() + 5                                     # Count spikes over 1 second window\n",
    "    spike_count = 0                                                  # continually add new spikes to spike_count\n",
    "    while time.time() < count_time:                                  # while still in 1 second window\n",
    "        frameID, voltages, spikes = stream.getData()                 # get spikes data\n",
    "        for spike in spikes:                                         # if there's a spike add it to the spike_count\n",
    "            spike_count += 1\n",
    "    print(\"Spike Count: \", spike_count )    \n",
    "    if not first_time:\n",
    "        spike_counts.append(spike_count)\n",
    "    first_time = False\n",
    "\n",
    "    \n",
    "print(\"experiment finished\")    \n",
    "\n",
    "\n",
    "\n",
    "# Shut Down Experiment\n",
    "print(\"shutting down devices\")\n",
    "del stream                # Stop Stream\n",
    "#opto_ctl.close()          # Stop Opto\n",
    "#maxwell.recordingStop()  # stop recording\n",
    "print(\"done\")"
   ]
  },
  {
   "cell_type": "code",
   "execution_count": 21,
   "id": "4656a777",
   "metadata": {},
   "outputs": [
    {
     "data": {
      "image/png": "[encoded data removed]",
      "text/plain": [
       "<Figure size 432x288 with 1 Axes>"
      ]
     },
     "metadata": {
      "needs_background": "light"
     },
     "output_type": "display_data"
    }
   ],
   "source": [
    "import matplotlib.pyplot as plt\n",
    "plt.hist(spike_counts, bins='auto')  # arguments are passed to np.histogram\n",
    "plt.show()"
   ]
  },
  {
   "cell_type": "code",
   "execution_count": null,
   "id": "fae9fbd0",
   "metadata": {},
   "outputs": [],
   "source": []
  },
  {
   "cell_type": "code",
   "execution_count": null,
   "id": "62adbe5f",
   "metadata": {},
   "outputs": [],
   "source": []
  },
  {
   "cell_type": "markdown",
   "id": "14855291",
   "metadata": {},
   "source": [
    "# <font color=\"green\"> Experiment: Closed loop test"
   ]
  },
  {
   "cell_type": "code",
   "execution_count": 22,
   "id": "33827291",
   "metadata": {},
   "outputs": [
    {
     "name": "stdout",
     "output_type": "stream",
     "text": [
      "MaxOne initialized\n",
      "maxwell streamer ready\n",
      "Available USB devices:\n",
      "('ASRL/dev/ttyACM11::INSTR',)\n",
      "recording_filename 20230403T161604-2023_04_03_hc328_0\n",
      "stim_log_file: ./files/opto/logs/20230403T161604-2023_04_03_hc328_0_opto_stim_log.csv\n",
      "CSV file is 0\n",
      "Recording Started\n",
      "Starting closed loop\n",
      "Spike Count:  55\n",
      "Spike Count:  44\n",
      "Spike Count:  37\n",
      "Spike Count:  40\n",
      "Spike Count:  42\n",
      "Spike Count:  38\n",
      "Spike Count:  142\n",
      "Starting Opto Pulses\n",
      "Stim pulse \t use_maxwell: True \t arduino_intensity: 0.9 \t delay/on/off (frames): 0 / 200000 / 4000\n",
      "finished pulses\n",
      "Spike Count:  12\n",
      "Spike Count:  85\n",
      "Spike Count:  42\n",
      "Spike Count:  15\n",
      "Spike Count:  9\n",
      "Spike Count:  12\n",
      "Spike Count:  12\n",
      "Spike Count:  12\n",
      "Spike Count:  8\n",
      "Spike Count:  9\n",
      "Spike Count:  11\n",
      "Spike Count:  6\n",
      "Spike Count:  5\n",
      "Spike Count:  12\n",
      "Spike Count:  9\n",
      "Spike Count:  16\n",
      "Spike Count:  10\n",
      "Spike Count:  13\n",
      "Spike Count:  17\n",
      "Spike Count:  10\n",
      "Spike Count:  4\n",
      "Spike Count:  13\n",
      "Spike Count:  7\n",
      "Spike Count:  2\n",
      "Spike Count:  3\n",
      "Spike Count:  19\n",
      "Spike Count:  15\n",
      "Spike Count:  8\n",
      "Spike Count:  10\n",
      "experiment finished\n",
      "shutting down devices\n",
      "Recording finished\n",
      "done\n"
     ]
    }
   ],
   "source": [
    "### Set up Maxwell and Opto\n",
    "maxwell = mgi.MaxwellCtl( config=\"/home/mxwbio/work/seizure_closed_loop/files/maxwell/configs/2023_04_03_hc328.cfg\")              # Turn Maxwell On\n",
    "stream  = mgi.Streamer( maxwell, filtered=False )                                                                       # Start Livestream\n",
    "opto_ctl = mgi.OptoCtl( log_file=\"./files/opto/logs/2023_04_03_hc328_0\", \n",
    "                   calibration_file=\"./files/opto/calibrations/20230308T140514-ucsf-opto-system-b_real-530nm-1a-v1.csv\", arduino_path=\"/dev/ttyACM11\")       # Set up Opto\n",
    "maxwell.recordingStart( data_file=\"/home/mxwbio/work/seizure_closed_loop/files/maxwell/recordings/2023_04_03_hc328_0.h5\")   # Start recording data             \n",
    "\n",
    "\n",
    "\n",
    "\n",
    "# Define Closed Loop Experiment\n",
    "print(\"Starting closed loop\")\n",
    "last_opto = 0\n",
    "experiment_end = time.time() + 180                                    # End the experiment in 20 seconds\n",
    "first_time = True\n",
    "spike_counts = []\n",
    "while time.time() < experiment_end:                                  # while the experiment hasn't run for 20 seconds\n",
    "    count_time = time.time() + 5                                     # Count spikes over 1 second window\n",
    "    spike_count = 0                                                  # continually add new spikes to spike_count\n",
    "    while time.time() < count_time:                                  # while still in 1 second window\n",
    "        frameID, voltages, spikes = stream.getData()                 # get spikes data\n",
    "        for spike in spikes:                                         # if there's a spike add it to the spike_count\n",
    "            spike_count += 1\n",
    "    print(\"Spike Count: \", spike_count )    \n",
    "    if not first_time:\n",
    "        spike_counts.append(spike_count)\n",
    "    \n",
    "\n",
    "    if spike_count > 90 and time.time()>last_opto+15 and not first_time:                # If tehre are more than 10 spikes in a second\n",
    "        print(\"Starting Opto Pulses\")                                # Do some opto pulses\n",
    "        opto_ctl.pulses(  on_duration=10000, off_duration=200, num_pulses=1, intensity=.9)\n",
    "        # on long pulse: \n",
    "        #opto_ctl.pulses(  on_duration=3000, off_duration=200, num_pulses=2, intensity=.2 )\n",
    "        \n",
    "        print(\"finished pulses\")\n",
    "        #print(\"emptying artifact spikes\")\n",
    "        last_opto = time.time()\n",
    "        #empty_time = time.time()+10                                  # wait 10 second to empty out previous data from stream\n",
    "        #while time.time() < empty_time:\n",
    "        #    stream.getData()                                         # Empty out stream data, because pulses created many fake spikes\n",
    "        #print(\"finished emptying\")    \n",
    "    first_time = False\n",
    "    \n",
    "print(\"experiment finished\")    \n",
    "\n",
    "\n",
    "\n",
    "# Shut Down Experiment\n",
    "print(\"shutting down devices\")\n",
    "del stream                # Stop Stream\n",
    "opto_ctl.close()          # Stop Opto\n",
    "maxwell.recordingStop()  # stop recording\n",
    "print(\"done\")"
   ]
  },
  {
   "cell_type": "markdown",
   "id": "df8e283c",
   "metadata": {},
   "source": [
    "**Epxeriments**\n",
    "* 2023_04_02_hc328_6: shine opto if spike rate is over 550 spikes in .5s. Shines light at .9 intensity for 10s."
   ]
  },
  {
   "cell_type": "markdown",
   "id": "af83258a",
   "metadata": {
    "heading_collapsed": true
   },
   "source": [
    "# <font color=\"green\">Expirement: Light intensity test"
   ]
  },
  {
   "cell_type": "code",
   "execution_count": 17,
   "id": "76a72b23",
   "metadata": {
    "hidden": true
   },
   "outputs": [
    {
     "name": "stdout",
     "output_type": "stream",
     "text": [
      "MaxOne initialized\n",
      "Available USB devices:\n",
      "('ASRL/dev/ttyACM11::INSTR',)\n",
      "recording_filename 20230402T145210-2023_04_02_hc328_7\n",
      "stim_log_file: ./files/opto/logs/20230402T145210-2023_04_02_hc328_7_opto_stim_log.csv\n",
      "CSV file is 0\n",
      "Recording Started\n",
      "Starting experiments\n",
      "Intinsity:  0.1\n",
      "Light On\n",
      "Stim pulse \t use_maxwell: True \t arduino_intensity: 0.1 \t delay/on/off (frames): 0 / 200000 / 4000\n",
      "Light Off\n",
      "Intinsity:  0.2\n",
      "Light On\n",
      "Stim pulse \t use_maxwell: True \t arduino_intensity: 0.2 \t delay/on/off (frames): 0 / 200000 / 4000\n",
      "Light Off\n",
      "Intinsity:  0.3\n",
      "Light On\n",
      "Stim pulse \t use_maxwell: True \t arduino_intensity: 0.3 \t delay/on/off (frames): 0 / 200000 / 4000\n",
      "Light Off\n",
      "Intinsity:  0.4\n",
      "Light On\n",
      "Stim pulse \t use_maxwell: True \t arduino_intensity: 0.4 \t delay/on/off (frames): 0 / 200000 / 4000\n",
      "Light Off\n",
      "Intinsity:  0.5\n",
      "Light On\n",
      "Stim pulse \t use_maxwell: True \t arduino_intensity: 0.5 \t delay/on/off (frames): 0 / 200000 / 4000\n",
      "Light Off\n",
      "Intinsity:  0.6\n",
      "Light On\n",
      "Stim pulse \t use_maxwell: True \t arduino_intensity: 0.6 \t delay/on/off (frames): 0 / 200000 / 4000\n",
      "Light Off\n",
      "Intinsity:  0.7\n",
      "Light On\n",
      "Stim pulse \t use_maxwell: True \t arduino_intensity: 0.7 \t delay/on/off (frames): 0 / 200000 / 4000\n",
      "Light Off\n",
      "Intinsity:  0.8\n",
      "Light On\n",
      "Stim pulse \t use_maxwell: True \t arduino_intensity: 0.8 \t delay/on/off (frames): 0 / 200000 / 4000\n",
      "Light Off\n",
      "Intinsity:  0.9\n",
      "Light On\n",
      "Stim pulse \t use_maxwell: True \t arduino_intensity: 0.9 \t delay/on/off (frames): 0 / 200000 / 4000\n",
      "Light Off\n",
      "shutting down devices\n",
      "Recording finished\n",
      "done\n"
     ]
    }
   ],
   "source": [
    "maxwell = mgi.MaxwellCtl( config=\"/home/mxwbio/work/seizure_closed_loop/files/maxwell/configs/2023_04_03_hc328.cfg\")              # Turn Maxwell On\n",
    "opto_ctl = mgi.OptoCtl( log_file=\"./files/opto/logs/2023_04_03_hc328_0\", \n",
    "                   calibration_file=\"./files/opto/calibrations/20230308T140514-ucsf-opto-system-b_real-530nm-1a-v1.csv\", arduino_path=\"/dev/ttyACM11\")       # Set up Opto\n",
    "maxwell.recordingStart( data_file=\"/home/mxwbio/work/seizure_closed_loop/files/maxwell/recordings/2023_04_03_hc328_0.h5\")   # Start recording data             \n",
    "\n",
    "print(\"Starting experiments\")\n",
    "time.sleep(10)\n",
    "for light in [.1,.2,.3,.4,.5,.6,.7,.8,.9]:\n",
    "    print(\"Intinsity: \",light)\n",
    "    print(\"Light On\")\n",
    "    opto_ctl.pulses(  on_duration=10000, off_duration=100, num_pulses=1, intensity=light)\n",
    "    print(\"Light Off\")\n",
    "    time.sleep(20)\n",
    "\n",
    "# Shut Down Experiment\n",
    "print(\"shutting down devices\")\n",
    "opto_ctl.close()          # Stop Opto\n",
    "maxwell.recordingStop()  # stop recording\n",
    "print(\"done\")"
   ]
  },
  {
   "cell_type": "markdown",
   "id": "2c3d3849",
   "metadata": {
    "hidden": true
   },
   "source": [
    "**experiment**\n",
    "* hc328_7: Shined light at different intensities. Light on 10 seconds. 20 seconds inbetween. Light had an affect at .4"
   ]
  },
  {
   "cell_type": "code",
   "execution_count": null,
   "id": "38ad27cd",
   "metadata": {
    "hidden": true
   },
   "outputs": [],
   "source": []
  },
  {
   "cell_type": "markdown",
   "id": "81d2149e",
   "metadata": {
    "heading_collapsed": true
   },
   "source": [
    "# Other junk"
   ]
  },
  {
   "cell_type": "code",
   "execution_count": null,
   "id": "eab4b940",
   "metadata": {
    "hidden": true
   },
   "outputs": [],
   "source": [
    "print(\"starting opto debug\")\n",
    "opto_ctl = mgi.OptoCtl( log_file=\"./files/opto/logs/opto_debug\", \n",
    "                   calibration_file=\"./files/opto/calibrations/20230203T152939-ucsf-opto-system-a_real-625nm-1a-v1.csv\", arduino_path=\"/dev/ttyACM11\")   \n",
    "opto_ctl.pulses(  on_duration=3000, off_duration=200, num_pulses=2, intensity=.2 )\n",
    "opto_ctl.close()          # Stop Opto"
   ]
  },
  {
   "cell_type": "code",
   "execution_count": null,
   "id": "bed47446",
   "metadata": {
    "hidden": true
   },
   "outputs": [],
   "source": []
  },
  {
   "cell_type": "code",
   "execution_count": null,
   "id": "83401980",
   "metadata": {
    "hidden": true
   },
   "outputs": [],
   "source": [
    "print(\"starting opto debug\")\n",
    "opto_ctl = mgi.OptoCtl( log_file=\"./files/opto/logs/opto_debug\", \n",
    "                   calibration_file=\"./files/opto/calibrations/20230203T152939-ucsf-opto-system-a_real-625nm-1a-v1.csv\", arduino_path=\"/dev/ttyACM11\")   \n",
    "opto_ctl.pulses(  on_duration=3000, off_duration=200, num_pulses=2, intensity=.9 )\n",
    "opto_ctl.pulses(  on_duration=3000, off_duration=200, num_pulses=2, intensity=.2 )\n",
    "opto_ctl.pulses(  on_duration=3000, off_duration=200, num_pulses=2, intensity=.9 )\n",
    "opto_ctl.close()          # Stop Opto"
   ]
  },
  {
   "cell_type": "code",
   "execution_count": null,
   "id": "3bc03018",
   "metadata": {
    "hidden": true
   },
   "outputs": [],
   "source": [
    "print(\"starting opto debug\")\n",
    "opto_ctl = mgi.OptoCtl( log_file=\"./files/opto/logs/opto_debug\", \n",
    "                   calibration_file=\"./files/opto/calibrations/20230203T152939-ucsf-opto-system-a_real-625nm-1a-v1.csv\", arduino_path=\"/dev/ttyACM11\")   \n",
    "opto_ctl.pulses(  on_duration=25, off_duration=25, num_pulses=100, intensity=.9 )\n",
    "opto_ctl.close()          # Stop Opto"
   ]
  },
  {
   "cell_type": "code",
   "execution_count": null,
   "id": "f8c91e41",
   "metadata": {
    "hidden": true
   },
   "outputs": [],
   "source": []
  },
  {
   "cell_type": "code",
   "execution_count": null,
   "id": "56152153",
   "metadata": {
    "hidden": true
   },
   "outputs": [],
   "source": []
  },
  {
   "cell_type": "code",
   "execution_count": null,
   "id": "ba491f1d",
   "metadata": {
    "hidden": true
   },
   "outputs": [],
   "source": []
  },
  {
   "cell_type": "markdown",
   "id": "0f6f41a4",
   "metadata": {
    "heading_collapsed": true
   },
   "source": [
    "# Run Closed Loop Opto Experiment."
   ]
  },
  {
   "cell_type": "markdown",
   "id": "2575b73e",
   "metadata": {
    "hidden": true
   },
   "source": [
    "Initialize environment"
   ]
  },
  {
   "cell_type": "code",
   "execution_count": null,
   "id": "0357444f",
   "metadata": {
    "code_folding": [],
    "hidden": true
   },
   "outputs": [],
   "source": [
    "### Set up Maxwell and Opto\n",
    "maxwell = mgi.MaxwellCtl( config=\"/home/mxwbio/work/seizure_closed_loop/files/maxwell/configs/config.cfg\")              # Turn Maxwell On\n",
    "stream  = mgi.Streamer( maxwell, filtered=False )                                                                       # Start Livestream\n",
    "opto_ctl = mgi.OptoCtl( log_file=\"./files/opto/logs/CheckCheck\", \n",
    "                   calibration_file=\"./files/opto/calibrations/test_calib.csv\", arduino_path=\"/dev/ttyACM11\")       # Set up Opto\n",
    "maxwell.recordingStart( data_file=\"/home/mxwbio/work/seizure_closed_loop/files/maxwell/recordings/CheckCheck.h5\")   # Start recording data             \n",
    "\n",
    "# Define Closed Loop Experiment\n",
    "print(\"Starting closed loop\")\n",
    "last_opto = 0\n",
    "experiment_end = time.time() + 50                                    # End the experiment in 20 seconds\n",
    "while time.time() < experiment_end:                                  # while the experiment hasn't run for 20 seconds\n",
    "    count_time = time.time() + 1                                     # Count spikes over 1 second window\n",
    "    spike_count = 0                                                  # continually add new spikes to spike_count\n",
    "    while time.time() < count_time:                                  # while still in 1 second window\n",
    "        frameID, voltages, spikes = stream.getData()                 # get spikes data\n",
    "        for spike in spikes:                                         # if there's a spike add it to the spike_count\n",
    "            spike_count += 1\n",
    "    print(\"Spike Count: \", spike_count )    \n",
    "    \n",
    "    if spike_count > 10 and time.time()>last_opto+15:                # If tehre are more than 10 spikes in a second\n",
    "        print(\"Starting Opto Pulses\")                                # Do some opto pulses\n",
    "        opto_ctl.pulses(  on_duration=4000, off_duration=1000, num_pulses=3, intensity=.9 )\n",
    "        print(\"finished pulses\")\n",
    "        #print(\"emptying artifact spikes\")\n",
    "        last_opto = time.time()\n",
    "        #empty_time = time.time()+10                                  # wait 10 second to empty out previous data from stream\n",
    "        #while time.time() < empty_time:\n",
    "        #    stream.getData()                                         # Empty out stream data, because pulses created many fake spikes\n",
    "        #print(\"finished emptying\")\n",
    "print(\"experiment finished\")    \n",
    "\n",
    "# Shut Down Experiment\n",
    "print(\"shutting down devices\")\n",
    "del stream                # Stop Stream\n",
    "opto_ctl.close()          # Stop Opto\n",
    "maxwell.recordingStop()  # stop recording\n",
    "print(\"done\")"
   ]
  },
  {
   "cell_type": "code",
   "execution_count": null,
   "id": "3646ebc5",
   "metadata": {
    "hidden": true
   },
   "outputs": [],
   "source": []
  },
  {
   "cell_type": "code",
   "execution_count": null,
   "id": "bfd61bbe",
   "metadata": {
    "hidden": true
   },
   "outputs": [],
   "source": []
  },
  {
   "cell_type": "markdown",
   "id": "163d90fe",
   "metadata": {
    "heading_collapsed": true
   },
   "source": [
    "# <font color=\"brown\">Opto Test"
   ]
  },
  {
   "cell_type": "code",
   "execution_count": null,
   "id": "0db093d4",
   "metadata": {
    "hidden": true
   },
   "outputs": [],
   "source": [
    "opto_ctl = OptoCtl( log_file=\"./files/opto/logs/CheckCheckCheck\", calibration_file=\"./files/opto/calibrations/test_calib.csv\", arduino_path=\"/dev/ttyACM10\")"
   ]
  },
  {
   "cell_type": "code",
   "execution_count": null,
   "id": "d868bbc4",
   "metadata": {
    "hidden": true
   },
   "outputs": [],
   "source": [
    "opto_ctl.pulses(  on_duration=4000, off_duration=1000, num_pulses=3, intensity=.9 )"
   ]
  },
  {
   "cell_type": "code",
   "execution_count": null,
   "id": "90282e5a",
   "metadata": {
    "hidden": true
   },
   "outputs": [],
   "source": [
    "opto_ctl.close()"
   ]
  },
  {
   "cell_type": "code",
   "execution_count": null,
   "id": "e1b03dff",
   "metadata": {
    "hidden": true
   },
   "outputs": [],
   "source": []
  },
  {
   "cell_type": "code",
   "execution_count": null,
   "id": "155773fa",
   "metadata": {
    "hidden": true
   },
   "outputs": [],
   "source": []
  },
  {
   "cell_type": "code",
   "execution_count": null,
   "id": "8be807bb",
   "metadata": {
    "hidden": true
   },
   "outputs": [],
   "source": []
  }
 ],
 "metadata": {
  "hide_input": false,
  "kernelspec": {
   "display_name": "Python 3 (ipykernel)",
   "language": "python",
   "name": "python3"
  },
  "language_info": {
   "codemirror_mode": {
    "name": "ipython",
    "version": 3
   },
   "file_extension": ".py",
   "mimetype": "text/x-python",
   "name": "python",
   "nbconvert_exporter": "python",
   "pygments_lexer": "ipython3",
   "version": "3.8.10"
  },
  "toc": {
   "base_numbering": 1,
   "nav_menu": {},
   "number_sections": true,
   "sideBar": true,
   "skip_h1_title": false,
   "title_cell": "Table of Contents",
   "title_sidebar": "Contents",
   "toc_cell": false,
   "toc_position": {},
   "toc_section_display": true,
   "toc_window_display": false
  },
  "varInspector": {
   "cols": {
    "lenName": 16,
    "lenType": 16,
    "lenVar": 40
   },
   "kernels_config": {
    "python": {
     "delete_cmd_postfix": "",
     "delete_cmd_prefix": "del ",
     "library": "var_list.py",
     "varRefreshCmd": "print(var_dic_list())"
    },
    "r": {
     "delete_cmd_postfix": ") ",
     "delete_cmd_prefix": "rm(",
     "library": "var_list.r",
     "varRefreshCmd": "cat(var_dic_list()) "
    }
   },
   "types_to_exclude": [
    "module",
    "function",
    "builtin_function_or_method",
    "instance",
    "_Feature"
   ],
   "window_display": false
  }
 },
 "nbformat": 4,
 "nbformat_minor": 5
}
