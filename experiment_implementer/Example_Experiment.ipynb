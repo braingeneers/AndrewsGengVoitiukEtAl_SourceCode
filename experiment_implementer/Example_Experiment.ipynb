{
 "cells": [
  {
   "cell_type": "markdown",
   "id": "ac013b5c",
   "metadata": {},
   "source": [
    ". \n",
    "\n",
    "<font size=7>Opto Closed Loop Experiment Template"
   ]
  },
  {
   "cell_type": "markdown",
   "id": "99742228",
   "metadata": {},
   "source": [
    "In this notebook we create the protocol for the opto close loop experiment. Make a copy of this template and the change the parameters to set up your specific experiment."
   ]
  },
  {
   "cell_type": "markdown",
   "id": "f86b3523",
   "metadata": {},
   "source": [
    "<font color=\"red\"> **Before you run code** - Set key experiment variables below"
   ]
  },
  {
   "cell_type": "code",
   "execution_count": 6,
   "id": "9045db3c",
   "metadata": {},
   "outputs": [],
   "source": [
    "maxwell_config = \"/home/mxwbio/work/seizure_closed_loop/files/maxwell/configs/????????????.cfg\"\n",
    "#experiment_name = \"hereitis\" # Debug Code\n",
    "arduino_path=\"/dev/ttyACM10\""
   ]
  },
  {
   "cell_type": "code",
   "execution_count": null,
   "id": "1bea0a88",
   "metadata": {},
   "outputs": [],
   "source": [
    "experiment_name = \"???????????????\"\n",
    "#maxwell_config = \"/home/mxwbio/work/seizure_closed_loop/files/maxwell/configs/2023_04_04_hc328_hckcr1-2.cfg\" # Debug Code"
   ]
  },
  {
   "cell_type": "markdown",
   "id": "8d9f006e",
   "metadata": {},
   "source": [
    "# <font color=\"gray\"> Set Up Notebook"
   ]
  },
  {
   "cell_type": "markdown",
   "id": "d192e938",
   "metadata": {},
   "source": [
    "Import required packages"
   ]
  },
  {
   "cell_type": "code",
   "execution_count": 8,
   "id": "ce7725a7",
   "metadata": {},
   "outputs": [],
   "source": [
    "import MaxwellGI as mgi\n",
    "import time\n",
    "import numpy as np\n",
    "import matplotlib.pyplot as plt"
   ]
  },
  {
   "cell_type": "markdown",
   "id": "e93ac238",
   "metadata": {
    "heading_collapsed": true
   },
   "source": [
    "## <font color=\"blue\"> countSpikes"
   ]
  },
  {
   "cell_type": "markdown",
   "id": "e7111c3b",
   "metadata": {
    "hidden": true
   },
   "source": [
    "<font color=\"blue\">countSpikes</font> is a function that counts the number of spikes that occure. Spike are counted over some set window of time, `count_window_seconds`. Spikes are continually counted throughout the duration of the experiment, `experiment_length_seconds`. All the spike counts that were recorded are then returned to the user."
   ]
  },
  {
   "cell_type": "code",
   "execution_count": 9,
   "id": "b0307af0",
   "metadata": {
    "hidden": true
   },
   "outputs": [],
   "source": [
    "def countSpikes( experiment_length_seconds, count_window_seconds=10 ):\n",
    "    print(\"starting devices\")\n",
    "    maxwell = mgi.MaxwellCtl( config= maxwell_config )          # Turn Maxwell On\n",
    "    stream  = mgi.Streamer( maxwell, filtered=False )           # Start Livestream\n",
    "    \n",
    "    print(\"Starting experiment\")\n",
    "    experiment_end = time.time() + experiment_length_seconds                                  \n",
    "    first_time = True\n",
    "    spike_counts = []\n",
    "    while time.time() < experiment_end:                                  # while the experiment hasn't reached it's final run length\n",
    "        count_time = time.time() + count_window_seconds                  # Count spikes over the count window length\n",
    "        spike_count = 0                                                  # continually add new spikes to spike_count\n",
    "        \n",
    "        while time.time() < count_time:                                  # for our specified count winow length\n",
    "            frameID, voltages, spikes = stream.getData()                 # get spikes data\n",
    "            for spike in spikes:                                         # add up all of the spikes to spike_count\n",
    "                spike_count += 1\n",
    "        print(\"Spike Count: \", spike_count )    \n",
    "        if not first_time:                                              # We don't record the first spike count, because that value is often wonky\n",
    "            spike_counts.append(spike_count)                            # but we record the rest of the spike counts\n",
    "        first_time = False\n",
    "\n",
    "    \n",
    "    print(\"Experiment over. Shutting down devices\")\n",
    "    del stream                # Stop Stream\n",
    "    print(\"done\")\n",
    "    return spike_counts"
   ]
  },
  {
   "cell_type": "markdown",
   "id": "be1826f4",
   "metadata": {
    "heading_collapsed": true
   },
   "source": [
    "## <font color=\"blue\">optoRecording"
   ]
  },
  {
   "cell_type": "code",
   "execution_count": 10,
   "id": "ed8ee3a0",
   "metadata": {
    "hidden": true
   },
   "outputs": [],
   "source": [
    "def optoRecording( light_on_seconds, light_off_seconds, num_pulses, light_intensity,\n",
    "                       calibration_file, data_file, log_file ):\n",
    "    \n",
    "    maxwell = mgi.MaxwellCtl( config=maxwell_config)                                       # Turn Maxwell On\n",
    "    opto_ctl = mgi.OptoCtl( log_file=log_file , \n",
    "                       calibration_file=calibration_file, arduino_path=arduino_path)       # Set up Opto\n",
    "    maxwell.recordingStart( data_file=data_file)                                           # Start recording data             \n",
    "\n",
    "    print(\"Starting experiments\")\n",
    "    time.sleep(20)\n",
    "    print(\"Light On\")\n",
    "    opto_ctl.pulses(  on_duration=light_on_seconds*1000, off_duration=light_off_seconds*1000, num_pulses=num_pulses, intensity=light_intensity)\n",
    "    print(\"Light Off\")\n",
    "    time.sleep(20)\n",
    "\n",
    "    # Shut Down Experiment\n",
    "    print(\"shutting down devices\")\n",
    "    opto_ctl.close()          # Stop Opto\n",
    "    maxwell.recordingStop()  # stop recording\n",
    "    print(\"done\")\n"
   ]
  },
  {
   "cell_type": "code",
   "execution_count": null,
   "id": "9f994e0c",
   "metadata": {
    "hidden": true
   },
   "outputs": [],
   "source": []
  },
  {
   "cell_type": "markdown",
   "id": "75c9126c",
   "metadata": {
    "heading_collapsed": true
   },
   "source": [
    "## <font color=\"blue\"> optoIntensitySweep"
   ]
  },
  {
   "cell_type": "code",
   "execution_count": 11,
   "id": "3c6104fd",
   "metadata": {
    "hidden": true
   },
   "outputs": [],
   "source": [
    "def optoIntensitySweep( light_on_seconds, calibration_file, data_file, log_file ):\n",
    "\n",
    "    maxwell = mgi.MaxwellCtl( config=maxwell_config)                                       # Turn Maxwell On\n",
    "    opto_ctl = mgi.OptoCtl( log_file=log_file , \n",
    "                       calibration_file=calibration_file, arduino_path=arduino_path)       # Set up Opto\n",
    "    maxwell.recordingStart( data_file=data_file)                                           # Start recording data             \n",
    "\n",
    "    print(\"Starting experiments\")\n",
    "    time.sleep(20)\n",
    "    for light in [.1,.2,.3,.4,.5,.6,.7,.8,.9]:\n",
    "        print(\"Intensity: \",light)\n",
    "        print(\"Light On\")\n",
    "        opto_ctl.pulses(  on_duration=light_on_seconds*1000, off_duration=100, num_pulses=1, intensity=light)\n",
    "        print(\"Light Off\")\n",
    "        time.sleep(30)\n",
    "    time.sleep(20)\n",
    "    \n",
    "    # Shut Down Experiment\n",
    "    print(\"Experiment finished. shutting down devices\")\n",
    "    opto_ctl.close()          # Stop Opto\n",
    "    maxwell.recordingStop()  # stop recording\n",
    "    print(\"done\")\n",
    "    \n",
    "    "
   ]
  },
  {
   "cell_type": "markdown",
   "id": "e64c9a2b",
   "metadata": {},
   "source": [
    "## <font color=\"blue\">optoClosedLoop "
   ]
  },
  {
   "cell_type": "code",
   "execution_count": null,
   "id": "11039afd",
   "metadata": {
    "code_folding": [
     6,
     23,
     25
    ]
   },
   "outputs": [],
   "source": [
    "def optoClosedLoop( experiment_length_seconds, count_window_seconds, spike_threshold, light_on_seconds, light_intensity,\n",
    "                    calibration_file, data_file, log_file  ):\n",
    "    \n",
    "    ### Set up Maxwell and Opto\n",
    "    maxwell = mgi.MaxwellCtl( config=maxwell_config)                                       # Turn Maxwell On\n",
    "    stream  = mgi.Streamer( maxwell, filtered=False )                                      # Start Livestream\n",
    "    opto_ctl = mgi.OptoCtl( log_file=log_file , \n",
    "                       calibration_file=calibration_file, arduino_path=arduino_path)       # Set up Opto\n",
    "    maxwell.recordingStart( data_file=data_file)                                           # Start recording data                \n",
    "    \n",
    "    time.sleep(30)\n",
    "    print(\"ADD BICUCULINE\")\n",
    "    time.sleep(30)\n",
    "    \n",
    "    # Define Closed Loop Experiment\n",
    "    print(\"Starting closed loop\")\n",
    "    last_opto = 0\n",
    "    skip_count_check = True\n",
    "    spike_counts=[]\n",
    "    experiment_end = time.time() + experiment_length_seconds             # End the experiment in 20 seconds\n",
    "    while time.time() < experiment_end:                                  # while the experiment hasn't run for 20 seconds\n",
    "        count_time = time.time() + count_window_seconds                  # Count spikes over 1 second window\n",
    "        spike_count = 0                                                  # continually add new spikes to spike_count\n",
    "        while time.time() < count_time:                                  # while still in 1 second window\n",
    "            frameID, voltages, spikes = stream.getData()                 # get spikes data\n",
    "            for spike in spikes:                                         # if there's a spike add it to the spike_count\n",
    "                spike_count += 1\n",
    "        print(\"Spike Count: \", spike_count )    \n",
    "        spike_counts.append(spike_count) \n",
    "    \n",
    "        if spike_count > spike_threshold and not skip_count_check :           # If tehre are more than 10 spikes in a second\n",
    "            print(\"Starting Opto Pulses\")                                              # Do some opto pulses\n",
    "            opto_ctl.pulses(  on_duration=light_on_seconds*1000, off_duration=100, num_pulses=1, intensity=light_intensity )\n",
    "            print(\"finished pulses\")\n",
    "        else:\n",
    "            skip_count_check = False\n",
    "        \n",
    "    print(\"experiment finished\")    \n",
    "    time.sleep(60)                                                      # post light recording\n",
    "    \n",
    "    # Shut Down Experiment\n",
    "    print(\"shutting down devices\")\n",
    "    del stream                # Stop Stream\n",
    "    opto_ctl.close()          # Stop Opto\n",
    "    maxwell.recordingStop()  # stop recording\n",
    "    print(\"done\")\n",
    "    return spike_counts"
   ]
  },
  {
   "cell_type": "code",
   "execution_count": null,
   "id": "22cb9d79",
   "metadata": {},
   "outputs": [],
   "source": [
    "            #skip_count_check =True\n",
    "            #print(\"emptying artifact spikes\")\n",
    "            #frameID, voltages, spikes = stream.getData() \n",
    "            #last_opto = time.time()\n",
    "            #empty_time = time.time()+10                                  # wait 10 second to empty out previous data from stream\n",
    "            #while time.time() < empty_time:\n",
    "            #    stream.getData()                                         # Empty out stream data, because pulses created many fake spikes\n",
    "            #print(\"finished emptying\")"
   ]
  },
  {
   "cell_type": "markdown",
   "id": "89fceb0e",
   "metadata": {},
   "source": [
    "# <font color=\"purple\"> Experiment: Opto Intensity Sweep <font color=\"green\"> - Green"
   ]
  },
  {
   "cell_type": "markdown",
   "id": "82519cf7",
   "metadata": {},
   "source": [
    "## <font color=\"purple\">Run Experiment"
   ]
  },
  {
   "cell_type": "code",
   "execution_count": null,
   "id": "d1668f77",
   "metadata": {},
   "outputs": [],
   "source": [
    "optoIntensitySweep( light_on_seconds=10,\n",
    "                    log_file= f\"./files/opto/logs/{experiment_name}_0\",\n",
    "                    calibration_file= \"./files/opto/calibrations/20230308T140514-ucsf-opto-system-b_real-530nm-1a-v1.csv\",\n",
    "                    data_file= f\" /home/mxwbio/work/seizure_closed_loop/files/maxwell/recordings/{experiment_name}_0.h5\" )"
   ]
  },
  {
   "cell_type": "markdown",
   "id": "0c115bda",
   "metadata": {
    "heading_collapsed": true
   },
   "source": [
    "## <font color=\"purple\">Document experiment"
   ]
  },
  {
   "cell_type": "markdown",
   "id": "f0480249",
   "metadata": {
    "hidden": true
   },
   "source": [
    "<font color=\"red\">Use the markdown below to document your experiment"
   ]
  },
  {
   "cell_type": "markdown",
   "id": "b3db6763",
   "metadata": {
    "hidden": true
   },
   "source": [
    "**Experiments**\n",
    "\n",
    "* Experiment_name - text about what you did\n"
   ]
  },
  {
   "cell_type": "markdown",
   "id": "279a320f",
   "metadata": {
    "heading_collapsed": true
   },
   "source": [
    "# <font color=\"purple\"> Experiment: Opto <font color=\"green\">Green</font> Light"
   ]
  },
  {
   "cell_type": "markdown",
   "id": "55d4ee37",
   "metadata": {
    "heading_collapsed": true,
    "hidden": true
   },
   "source": [
    "## <font color=\"purple\">Run Experiment"
   ]
  },
  {
   "cell_type": "code",
   "execution_count": null,
   "id": "59d6191a",
   "metadata": {
    "hidden": true
   },
   "outputs": [],
   "source": [
    "optoRecording( light_on_seconds=10, light_off_seconds=30, num_pulses=3, light_intensity=int(\"?????????\"),\n",
    "                calibration_file= \"./files/opto/calibrations/20230308T140514-ucsf-opto-system-b_real-530nm-1a-v1.csv\",\n",
    "                data_file= f\" /home/mxwbio/work/seizure_closed_loop/files/maxwell/recordings/{experiment_name}_1.h5\",\n",
    "                log_file = f\"./files/opto/logs/{experiment_name}_1\")"
   ]
  },
  {
   "cell_type": "markdown",
   "id": "ee0661cb",
   "metadata": {
    "heading_collapsed": true,
    "hidden": true
   },
   "source": [
    "## <font color=\"purple\">Document experiment"
   ]
  },
  {
   "cell_type": "markdown",
   "id": "5dbd0944",
   "metadata": {
    "hidden": true
   },
   "source": [
    "<font color=\"red\">Use the markdown below to document your experiment"
   ]
  },
  {
   "cell_type": "markdown",
   "id": "f17f0aa3",
   "metadata": {
    "hidden": true
   },
   "source": [
    "**Experiments**\n",
    "\n",
    "* Experiment_name - {number}hz {color} light pulse, with {numbers} second pause in between\n",
    "    * calibration file - ?\n",
    "    * recording file - ?"
   ]
  },
  {
   "cell_type": "markdown",
   "id": "2e1d381e",
   "metadata": {},
   "source": [
    "# <font color=\"purple\"> Experiment: Opto <font color=\"red\">Red</font> Light"
   ]
  },
  {
   "cell_type": "markdown",
   "id": "d0dd9027",
   "metadata": {
    "heading_collapsed": true
   },
   "source": [
    "## <font color=\"purple\">Run Experiment"
   ]
  },
  {
   "cell_type": "code",
   "execution_count": null,
   "id": "58385d7a",
   "metadata": {
    "hidden": true
   },
   "outputs": [],
   "source": [
    "optoRecording( light_on_seconds=10, light_off_seconds=30, num_pulses=3, light_intensity=int(\"???????\"),\n",
    "                calibration_file= \"./files/opto/calibrations/20230203T152939-ucsf-opto-system-a_real-625nm-1a-v1.csv\",\n",
    "                data_file= f\" /home/mxwbio/work/seizure_closed_loop/files/maxwell/recordings/{experiment_name}_2.h5\",\n",
    "                log_file = f\"./files/opto/logs/{experiment_name}_2\")"
   ]
  },
  {
   "cell_type": "markdown",
   "id": "3bb26e73",
   "metadata": {
    "heading_collapsed": true
   },
   "source": [
    "## <font color=\"purple\">Document experiment"
   ]
  },
  {
   "cell_type": "markdown",
   "id": "8e93c060",
   "metadata": {
    "hidden": true
   },
   "source": [
    "<font color=\"red\">Use the markdown below to document your experiment"
   ]
  },
  {
   "cell_type": "markdown",
   "id": "439c7b47",
   "metadata": {
    "hidden": true
   },
   "source": [
    "**Experiments**\n",
    "\n",
    "* Experiment_name - {number}hz {color} light pulse, with {numbers} second pause in between\n",
    "    * calibration file - ?\n",
    "    * recording file - ?"
   ]
  },
  {
   "cell_type": "markdown",
   "id": "53a091ba",
   "metadata": {
    "heading_collapsed": true
   },
   "source": [
    "# <font color=\"purple\"> Experiment: Opto <font color=\"blue\">Blue</font> Light"
   ]
  },
  {
   "cell_type": "markdown",
   "id": "783f711b",
   "metadata": {
    "heading_collapsed": true,
    "hidden": true
   },
   "source": [
    "## <font color=\"purple\">Run Experiment"
   ]
  },
  {
   "cell_type": "code",
   "execution_count": null,
   "id": "b41cd71b",
   "metadata": {
    "hidden": true
   },
   "outputs": [],
   "source": [
    "optoRecording( light_on_seconds=10, light_off_seconds=30, num_pulses=3, light_intensity=int(\"????????\"),\n",
    "                calibration_file= \"./files/opto/calibrations/20230203T153451-ucsf-opto-system-b_real-470nm-1a-v1.csv\",\n",
    "                data_file= f\" /home/mxwbio/work/seizure_closed_loop/files/maxwell/recordings/{experiment_name}_3.h5\",\n",
    "                log_file = f\"./files/opto/logs/{experiment_name}_3\")"
   ]
  },
  {
   "cell_type": "markdown",
   "id": "64b804f9",
   "metadata": {
    "heading_collapsed": true,
    "hidden": true
   },
   "source": [
    "## <font color=\"purple\">Document experiment"
   ]
  },
  {
   "cell_type": "markdown",
   "id": "fb6da1f0",
   "metadata": {
    "hidden": true
   },
   "source": [
    "<font color=\"red\">Use the markdown below to document your experiment"
   ]
  },
  {
   "cell_type": "markdown",
   "id": "a5911977",
   "metadata": {
    "hidden": true
   },
   "source": [
    "**Experiments**\n",
    "\n",
    "* Experiment_name - {number}hz {color} light pulse, with {numbers} second pause in between\n",
    "    * calibration file - ?\n",
    "    * recording file - ?"
   ]
  },
  {
   "cell_type": "markdown",
   "id": "f0168861",
   "metadata": {},
   "source": [
    "# <font color=\"purple\"> Experiment: Count Spikes"
   ]
  },
  {
   "cell_type": "markdown",
   "id": "4d84e179",
   "metadata": {},
   "source": [
    "## <font color=\"purple\">Run Experiment"
   ]
  },
  {
   "cell_type": "code",
   "execution_count": 12,
   "id": "884c8b16",
   "metadata": {},
   "outputs": [
    {
     "name": "stdout",
     "output_type": "stream",
     "text": [
      "starting devices\n",
      "MaxOne initialized\n",
      "maxwell streamer ready\n",
      "Starting experiment\n",
      "Spike Count:  59\n",
      "Spike Count:  69\n",
      "Spike Count:  69\n",
      "Experiment over. Shutting down devices\n",
      "done\n"
     ]
    }
   ],
   "source": [
    "spike_counts = countSpikes(30)"
   ]
  },
  {
   "cell_type": "markdown",
   "id": "790c34d3",
   "metadata": {
    "heading_collapsed": true
   },
   "source": [
    "## <font color=\"purple\">Analyze Results"
   ]
  },
  {
   "cell_type": "markdown",
   "id": "1fd8b15f",
   "metadata": {
    "hidden": true
   },
   "source": [
    "Plot histogram of spikes"
   ]
  },
  {
   "cell_type": "code",
   "execution_count": null,
   "id": "0b9fafa9",
   "metadata": {
    "hidden": true
   },
   "outputs": [],
   "source": [
    "print(\"Mean Spikes: \", np.mean(spike_counts) )\n",
    "plt.hist(spike_counts, bins='auto')  # arguments are passed to np.histogram\n",
    "plt.show()"
   ]
  },
  {
   "cell_type": "markdown",
   "id": "40d4e30e",
   "metadata": {
    "hidden": true
   },
   "source": [
    "Save Data"
   ]
  },
  {
   "cell_type": "code",
   "execution_count": null,
   "id": "1814c588",
   "metadata": {
    "hidden": true
   },
   "outputs": [],
   "source": [
    "np.savetxt( experiment_name+\"_calibrate_spike_counts.csv\", spike_counts, delimiter=\",\" )\n",
    "#checkit = np.loadtxt(\"some_experiment_spike_counts.csv\")   # How to load data"
   ]
  },
  {
   "cell_type": "markdown",
   "id": "b119fc7e",
   "metadata": {
    "heading_collapsed": true
   },
   "source": [
    "## <font color=\"purple\">Document experiment"
   ]
  },
  {
   "cell_type": "markdown",
   "id": "4df4944d",
   "metadata": {
    "hidden": true
   },
   "source": [
    "<font color=\"red\">Use the markdown below to document your experiment"
   ]
  },
  {
   "cell_type": "markdown",
   "id": "e654464c",
   "metadata": {
    "hidden": true
   },
   "source": [
    "**Experiments**\n",
    "\n",
    "* Experiment 1 - text about what you did\n",
    "    * experiment_length_seconds=?, count_window_seconds=?, csv_file=?"
   ]
  },
  {
   "cell_type": "code",
   "execution_count": null,
   "id": "c3dc5ad5",
   "metadata": {
    "hidden": true
   },
   "outputs": [],
   "source": []
  },
  {
   "cell_type": "markdown",
   "id": "2da5ef09",
   "metadata": {},
   "source": [
    "# <font color=\"purple\"> Experiment: Opto Closed Loop - No Bicuculine <font color=\"green\">"
   ]
  },
  {
   "cell_type": "markdown",
   "id": "d20f2321",
   "metadata": {
    "heading_collapsed": true
   },
   "source": [
    "## <font color=\"purple\">Run Experiment"
   ]
  },
  {
   "cell_type": "markdown",
   "id": "95d2803e",
   "metadata": {
    "hidden": true
   },
   "source": [
    "<font color=\"red\"><b>IMportant</b> how long do you want to record after light stim"
   ]
  },
  {
   "cell_type": "markdown",
   "id": "e638c5b4",
   "metadata": {
    "hidden": true
   },
   "source": [
    "Run experiment"
   ]
  },
  {
   "cell_type": "code",
   "execution_count": null,
   "id": "806725f2",
   "metadata": {
    "hidden": true,
    "scrolled": false
   },
   "outputs": [],
   "source": [
    "spike_counts = optoClosedLoop( experiment_length_seconds= 60,\n",
    "                count_window_seconds=10,\n",
    "                spike_threshold= int(\"???\"),\n",
    "                light_on_seconds= 10,\n",
    "                light_intensity= int(\"???\"),\n",
    "                calibration_file= \"./files/opto/calibrations/20230308T140514-ucsf-opto-system-b_real-530nm-1a-v1.csv\",\n",
    "                data_file= f\" /home/mxwbio/work/seizure_closed_loop/files/maxwell/recordings/{experiment_name}_4.h5\",\n",
    "                log_file=  f\"./files/opto/logs/{experiment_name}_4\" )"
   ]
  },
  {
   "cell_type": "code",
   "execution_count": null,
   "id": "9cb2eacd",
   "metadata": {
    "hidden": true
   },
   "outputs": [],
   "source": [
    "spike_counts = optoClosedLoop( experiment_length_seconds= 40,\n",
    "                count_window_seconds=10,\n",
    "                spike_threshold= 40, #int(\"???\"),\n",
    "                light_on_seconds= 10,\n",
    "                light_intensity= .9, #int(\"???\"),\n",
    "                calibration_file= \"./files/opto/calibrations/20230308T140514-ucsf-opto-system-b_real-530nm-1a-v1.csv\",\n",
    "                data_file= f\" /home/mxwbio/work/seizure_closed_loop/files/maxwell/recordings/{experiment_name}_9.h5\",\n",
    "                log_file=  f\"./files/opto/logs/{experiment_name}_9\" )"
   ]
  },
  {
   "cell_type": "markdown",
   "id": "2ed77ccd",
   "metadata": {
    "heading_collapsed": true
   },
   "source": [
    "## <font color=\"purple\">Document experiment"
   ]
  },
  {
   "cell_type": "markdown",
   "id": "2245317a",
   "metadata": {
    "hidden": true
   },
   "source": [
    "Save spike counts"
   ]
  },
  {
   "cell_type": "code",
   "execution_count": null,
   "id": "bec36d8a",
   "metadata": {
    "hidden": true
   },
   "outputs": [],
   "source": [
    "np.savetxt( experiment_name+\"_no_bicuculine_spike_counts.csv\", spike_counts, delimiter=\",\" )"
   ]
  },
  {
   "cell_type": "markdown",
   "id": "b9d512b9",
   "metadata": {
    "hidden": true
   },
   "source": [
    "<font color=\"red\">Use the markdown below to document your experiment"
   ]
  },
  {
   "cell_type": "markdown",
   "id": "36eacfb1",
   "metadata": {
    "hidden": true
   },
   "source": [
    "**Experiments**\n",
    "\n",
    "* Experiment 1 - text about what you did\n",
    "    * experiment_length_seconds=?, count_window_seconds=?, csv_file=?"
   ]
  },
  {
   "cell_type": "markdown",
   "id": "15a49bf3",
   "metadata": {
    "heading_collapsed": true
   },
   "source": [
    "# <font color=\"purple\"> Experiment: Closed Loop - <font color=\"red\">Bicuculine"
   ]
  },
  {
   "cell_type": "markdown",
   "id": "0ba368ad",
   "metadata": {
    "heading_collapsed": true,
    "hidden": true
   },
   "source": [
    "## <font color=\"purple\">Run Experiment"
   ]
  },
  {
   "cell_type": "markdown",
   "id": "f2e9974f",
   "metadata": {
    "hidden": true
   },
   "source": [
    "Start Recording"
   ]
  },
  {
   "cell_type": "code",
   "execution_count": null,
   "id": "3bc4972f",
   "metadata": {
    "hidden": true
   },
   "outputs": [],
   "source": [
    "# Set variables\n",
    "experiment_length_seconds = 120\n",
    "count_window_seconds = 10\n",
    "spike_threshold  = 40 #270 \n",
    "light_on_seconds = 10\n",
    "light_intensity  = .5\n",
    "calibration_file = \"./files/opto/calibrations/20230308T140514-ucsf-opto-system-b_real-530nm-1a-v1.csv\"\n",
    "data_file = f\" /home/mxwbio/work/seizure_closed_loop/files/maxwell/recordings/{experiment_name}_5.h5\"\n",
    "log_file  = f\"./files/opto/logs/{experiment_name}_5\" \n",
    "\n",
    "\n",
    "### Set up Maxwell and Opto\n",
    "maxwell = mgi.MaxwellCtl( config=maxwell_config)                                       # Turn Maxwell On\n",
    "stream  = mgi.Streamer( maxwell, filtered=False )                                      # Start Livestream\n",
    "opto_ctl = mgi.OptoCtl( log_file=log_file , \n",
    "                    calibration_file=calibration_file, arduino_path=arduino_path)       # Set up Opto\n",
    "maxwell.recordingStart( data_file=data_file)                                           # Start recording data                \n"
   ]
  },
  {
   "cell_type": "markdown",
   "id": "50033b0b",
   "metadata": {
    "hidden": true
   },
   "source": [
    "Start recording"
   ]
  },
  {
   "cell_type": "markdown",
   "id": "63966e95",
   "metadata": {
    "hidden": true
   },
   "source": [
    "right after bicuculinw is added, run closed loop"
   ]
  },
  {
   "cell_type": "code",
   "execution_count": null,
   "id": "b26cac85",
   "metadata": {
    "hidden": true
   },
   "outputs": [],
   "source": [
    "experiment_length_seconds = 40"
   ]
  },
  {
   "cell_type": "code",
   "execution_count": null,
   "id": "bcb45f6e",
   "metadata": {
    "hidden": true
   },
   "outputs": [],
   "source": [
    "# Define Closed Loop Experiment\n",
    "print(\"Starting closed loop\")\n",
    "last_opto = 0\n",
    "first_time = True\n",
    "spike_counts=[]\n",
    "experiment_end = time.time() + experiment_length_seconds             # End the experiment in 20 seconds\n",
    "while time.time() < experiment_end:                                  # while the experiment hasn't run for 20 seconds\n",
    "    count_time = time.time() + count_window_seconds                  # Count spikes over 1 second window\n",
    "    spike_count = 0                                                  # continually add new spikes to spike_count\n",
    "    while time.time() < count_time:                                  # while still in 1 second window\n",
    "        frameID, voltages, spikes = stream.getData()                 # get spikes data\n",
    "        for spike in spikes:                                         # if there's a spike add it to the spike_count\n",
    "            spike_count += 1\n",
    "    print(\"Spike Count: \", spike_count )    \n",
    "    spike_counts.append(spike_count) \n",
    "    \n",
    "    if spike_count > spike_threshold and time.time()>last_opto+light_on_seconds+5  and not first_time:           # If tehre are more than 10 spikes in a second\n",
    "        print(\"Starting Opto Pulses\")                                              # Do some opto pulses\n",
    "        opto_ctl.pulses(  on_duration=light_on_seconds*1000, off_duration=100, num_pulses=1, intensity=light_intensity )\n",
    "        print(\"finished pulses\")\n",
    "            #print(\"emptying artifact spikes\")\n",
    "        #stream.getData()  \n",
    "        last_opto = time.time()\n",
    "        stream.getData()  \n",
    "            #empty_time = time.time()+10                                  # wait 10 second to empty out previous data from stream\n",
    "            #while time.time() < empty_time:\n",
    "            #    stream.getData()                                         # Empty out stream data, because pulses created many fake spikes\n",
    "            #print(\"finished emptying\")\n",
    "    first_time = False\n",
    "        \n",
    "print(\"experiment finished\")    \n",
    "#time.sleep(120)"
   ]
  },
  {
   "cell_type": "markdown",
   "id": "87a46bc3",
   "metadata": {
    "hidden": true
   },
   "source": [
    "stop experiment"
   ]
  },
  {
   "cell_type": "code",
   "execution_count": null,
   "id": "ec81d916",
   "metadata": {
    "hidden": true
   },
   "outputs": [],
   "source": [
    "# Shut Down Experiment\n",
    "print(\"shutting down devices\")\n",
    "del stream                # Stop Stream\n",
    "opto_ctl.close()          # Stop Opto\n",
    "maxwell.recordingStop()  # stop recording\n",
    "print(\"done\")"
   ]
  },
  {
   "cell_type": "code",
   "execution_count": null,
   "id": "7cb1568c",
   "metadata": {
    "hidden": true
   },
   "outputs": [],
   "source": []
  },
  {
   "cell_type": "markdown",
   "id": "9c6b24b9",
   "metadata": {
    "heading_collapsed": true,
    "hidden": true
   },
   "source": [
    "## <font color=\"purple\">Document experiment"
   ]
  },
  {
   "cell_type": "markdown",
   "id": "b1e45d02",
   "metadata": {
    "hidden": true
   },
   "source": [
    "<font color=\"red\">Use the markdown below to document your experiment"
   ]
  },
  {
   "cell_type": "markdown",
   "id": "1151bddb",
   "metadata": {
    "hidden": true
   },
   "source": [
    "**Experiments**\n",
    "\n",
    "* Experiment_name -"
   ]
  },
  {
   "cell_type": "code",
   "execution_count": null,
   "id": "3b477174",
   "metadata": {
    "hidden": true
   },
   "outputs": [],
   "source": []
  },
  {
   "cell_type": "code",
   "execution_count": null,
   "id": "5916ae2c",
   "metadata": {
    "hidden": true
   },
   "outputs": [],
   "source": []
  },
  {
   "cell_type": "markdown",
   "id": "e1874bba",
   "metadata": {
    "heading_collapsed": true
   },
   "source": [
    "# <font color=\"gray\"> Additional Experiment Notes"
   ]
  },
  {
   "cell_type": "markdown",
   "id": "3423707a",
   "metadata": {
    "hidden": true
   },
   "source": [
    "Please put any additional experiment notes here"
   ]
  },
  {
   "cell_type": "code",
   "execution_count": null,
   "id": "2aaec16d",
   "metadata": {
    "hidden": true
   },
   "outputs": [],
   "source": []
  }
 ],
 "metadata": {
  "hide_input": false,
  "kernelspec": {
   "display_name": "Python 3 (ipykernel)",
   "language": "python",
   "name": "python3"
  },
  "language_info": {
   "codemirror_mode": {
    "name": "ipython",
    "version": 3
   },
   "file_extension": ".py",
   "mimetype": "text/x-python",
   "name": "python",
   "nbconvert_exporter": "python",
   "pygments_lexer": "ipython3",
   "version": "3.8.10"
  },
  "toc": {
   "base_numbering": 1,
   "nav_menu": {},
   "number_sections": true,
   "sideBar": true,
   "skip_h1_title": false,
   "title_cell": "Table of Contents",
   "title_sidebar": "Contents",
   "toc_cell": false,
   "toc_position": {},
   "toc_section_display": true,
   "toc_window_display": false
  },
  "varInspector": {
   "cols": {
    "lenName": 16,
    "lenType": 16,
    "lenVar": 40
   },
   "kernels_config": {
    "python": {
     "delete_cmd_postfix": "",
     "delete_cmd_prefix": "del ",
     "library": "var_list.py",
     "varRefreshCmd": "print(var_dic_list())"
    },
    "r": {
     "delete_cmd_postfix": ") ",
     "delete_cmd_prefix": "rm(",
     "library": "var_list.r",
     "varRefreshCmd": "cat(var_dic_list()) "
    }
   },
   "types_to_exclude": [
    "module",
    "function",
    "builtin_function_or_method",
    "instance",
    "_Feature"
   ],
   "window_display": false
  }
 },
 "nbformat": 4,
 "nbformat_minor": 5
}
